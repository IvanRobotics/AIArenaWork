{
  "nbformat": 4,
  "nbformat_minor": 0,
  "metadata": {
    "colab": {
      "provenance": [],
      "authorship_tag": "ABX9TyNYvXvv1SmTZI9xBgLoZdHo",
      "include_colab_link": true
    },
    "kernelspec": {
      "name": "python3",
      "display_name": "Python 3"
    },
    "language_info": {
      "name": "python"
    }
  },
  "cells": [
    {
      "cell_type": "markdown",
      "metadata": {
        "id": "view-in-github",
        "colab_type": "text"
      },
      "source": [
        "<a href=\"https://colab.research.google.com/github/IvanRobotics/AIArenaWork/blob/main/AIArena_Session2.ipynb\" target=\"_parent\"><img src=\"https://colab.research.google.com/assets/colab-badge.svg\" alt=\"Open In Colab\"/></a>"
      ]
    },
    {
      "cell_type": "code",
      "source": [
        "from google.colab import drive\n",
        "drive.mount('/content/drive')\n"
      ],
      "metadata": {
        "id": "uGv_o3yJJqsI",
        "colab": {
          "base_uri": "https://localhost:8080/"
        },
        "outputId": "8805a1e3-cbd2-4b5c-dd89-53bacd42bad8"
      },
      "execution_count": null,
      "outputs": [
        {
          "output_type": "stream",
          "name": "stdout",
          "text": [
            "Drive already mounted at /content/drive; to attempt to forcibly remount, call drive.mount(\"/content/drive\", force_remount=True).\n"
          ]
        }
      ]
    },
    {
      "cell_type": "code",
      "source": [
        "import matplotlib.pyplot as plt \n",
        "from sklearn.utils import resample\n",
        "import seaborn as sns\n",
        "import pandas as pd\n",
        "import numpy as np\n",
        "import json\n",
        "import math\n",
        "import torch\n",
        "import torch.nn as nn\n",
        "import torch.optim as optim\n",
        "from torch.utils.data import DataLoader, Subset, Dataset\n",
        "from sklearn.model_selection import train_test_split\n",
        "from torch.utils.data.dataset import random_split\n",
        "from sklearn.model_selection import StratifiedKFold\n",
        "\n",
        "\n",
        "\n"
      ],
      "metadata": {
        "id": "fqM6qyqKx2_4"
      },
      "execution_count": null,
      "outputs": []
    },
    {
      "cell_type": "code",
      "source": [
        "# load the JSON file\n",
        "file_path = '/content/drive/MyDrive/AI_Projects/AI Arena/training-data--session-2.json'\n",
        "with open(file_path) as file:\n",
        "  json_data_session2 = json.load(file)\n",
        "\n",
        "# Extract All Features, Directions and actions\n",
        "features = []\n",
        "direction_action = []\n",
        "other_action = []\n",
        "\n",
        "for entry in json_data_session2:\n",
        "  state = entry['state'][0]\n",
        "  features.append(state[:116])\n",
        "  direction_action.append(entry['action']['direction'][0])\n",
        "  other_action.append(entry['action']['other'][0])\n",
        "\n",
        "\n",
        "# convert to numpy array\n",
        "features = np.array(features)\n",
        "direction_action = np.array(direction_action)\n",
        "other_action = np.array(other_action)\n",
        "\n",
        "\n",
        "\n"
      ],
      "metadata": {
        "id": "f7JBBHSpx5ka"
      },
      "execution_count": null,
      "outputs": []
    },
    {
      "cell_type": "code",
      "source": [
        "entry_data =  {\n",
        "    'features.shape ': features.shape,\n",
        "    'direction_action': direction_action.shape,\n",
        "    'other_action': other_action.shape\n",
        "}\n",
        "\n",
        "row_labels = ['total entry count','total elements in an entry']\n",
        "\n",
        "entry_df = pd.DataFrame(entry_data, index = row_labels)\n",
        "entry_df"
      ],
      "metadata": {
        "colab": {
          "base_uri": "https://localhost:8080/",
          "height": 112
        },
        "id": "lV5WD-fryCHY",
        "outputId": "e56d37b0-8bb7-48fc-e6c9-f05a4a676a81"
      },
      "execution_count": null,
      "outputs": [
        {
          "output_type": "execute_result",
          "data": {
            "text/plain": [
              "                            features.shape   direction_action  other_action\n",
              "total entry count                        23                23            23\n",
              "total elements in an entry              115                 9             6"
            ],
            "text/html": [
              "\n",
              "  <div id=\"df-f42df3fa-ea7c-4206-ae47-5e7faf82b7ad\">\n",
              "    <div class=\"colab-df-container\">\n",
              "      <div>\n",
              "<style scoped>\n",
              "    .dataframe tbody tr th:only-of-type {\n",
              "        vertical-align: middle;\n",
              "    }\n",
              "\n",
              "    .dataframe tbody tr th {\n",
              "        vertical-align: top;\n",
              "    }\n",
              "\n",
              "    .dataframe thead th {\n",
              "        text-align: right;\n",
              "    }\n",
              "</style>\n",
              "<table border=\"1\" class=\"dataframe\">\n",
              "  <thead>\n",
              "    <tr style=\"text-align: right;\">\n",
              "      <th></th>\n",
              "      <th>features.shape</th>\n",
              "      <th>direction_action</th>\n",
              "      <th>other_action</th>\n",
              "    </tr>\n",
              "  </thead>\n",
              "  <tbody>\n",
              "    <tr>\n",
              "      <th>total entry count</th>\n",
              "      <td>23</td>\n",
              "      <td>23</td>\n",
              "      <td>23</td>\n",
              "    </tr>\n",
              "    <tr>\n",
              "      <th>total elements in an entry</th>\n",
              "      <td>115</td>\n",
              "      <td>9</td>\n",
              "      <td>6</td>\n",
              "    </tr>\n",
              "  </tbody>\n",
              "</table>\n",
              "</div>\n",
              "      <button class=\"colab-df-convert\" onclick=\"convertToInteractive('df-f42df3fa-ea7c-4206-ae47-5e7faf82b7ad')\"\n",
              "              title=\"Convert this dataframe to an interactive table.\"\n",
              "              style=\"display:none;\">\n",
              "        \n",
              "  <svg xmlns=\"http://www.w3.org/2000/svg\" height=\"24px\"viewBox=\"0 0 24 24\"\n",
              "       width=\"24px\">\n",
              "    <path d=\"M0 0h24v24H0V0z\" fill=\"none\"/>\n",
              "    <path d=\"M18.56 5.44l.94 2.06.94-2.06 2.06-.94-2.06-.94-.94-2.06-.94 2.06-2.06.94zm-11 1L8.5 8.5l.94-2.06 2.06-.94-2.06-.94L8.5 2.5l-.94 2.06-2.06.94zm10 10l.94 2.06.94-2.06 2.06-.94-2.06-.94-.94-2.06-.94 2.06-2.06.94z\"/><path d=\"M17.41 7.96l-1.37-1.37c-.4-.4-.92-.59-1.43-.59-.52 0-1.04.2-1.43.59L10.3 9.45l-7.72 7.72c-.78.78-.78 2.05 0 2.83L4 21.41c.39.39.9.59 1.41.59.51 0 1.02-.2 1.41-.59l7.78-7.78 2.81-2.81c.8-.78.8-2.07 0-2.86zM5.41 20L4 18.59l7.72-7.72 1.47 1.35L5.41 20z\"/>\n",
              "  </svg>\n",
              "      </button>\n",
              "      \n",
              "  <style>\n",
              "    .colab-df-container {\n",
              "      display:flex;\n",
              "      flex-wrap:wrap;\n",
              "      gap: 12px;\n",
              "    }\n",
              "\n",
              "    .colab-df-convert {\n",
              "      background-color: #E8F0FE;\n",
              "      border: none;\n",
              "      border-radius: 50%;\n",
              "      cursor: pointer;\n",
              "      display: none;\n",
              "      fill: #1967D2;\n",
              "      height: 32px;\n",
              "      padding: 0 0 0 0;\n",
              "      width: 32px;\n",
              "    }\n",
              "\n",
              "    .colab-df-convert:hover {\n",
              "      background-color: #E2EBFA;\n",
              "      box-shadow: 0px 1px 2px rgba(60, 64, 67, 0.3), 0px 1px 3px 1px rgba(60, 64, 67, 0.15);\n",
              "      fill: #174EA6;\n",
              "    }\n",
              "\n",
              "    [theme=dark] .colab-df-convert {\n",
              "      background-color: #3B4455;\n",
              "      fill: #D2E3FC;\n",
              "    }\n",
              "\n",
              "    [theme=dark] .colab-df-convert:hover {\n",
              "      background-color: #434B5C;\n",
              "      box-shadow: 0px 1px 3px 1px rgba(0, 0, 0, 0.15);\n",
              "      filter: drop-shadow(0px 1px 2px rgba(0, 0, 0, 0.3));\n",
              "      fill: #FFFFFF;\n",
              "    }\n",
              "  </style>\n",
              "\n",
              "      <script>\n",
              "        const buttonEl =\n",
              "          document.querySelector('#df-f42df3fa-ea7c-4206-ae47-5e7faf82b7ad button.colab-df-convert');\n",
              "        buttonEl.style.display =\n",
              "          google.colab.kernel.accessAllowed ? 'block' : 'none';\n",
              "\n",
              "        async function convertToInteractive(key) {\n",
              "          const element = document.querySelector('#df-f42df3fa-ea7c-4206-ae47-5e7faf82b7ad');\n",
              "          const dataTable =\n",
              "            await google.colab.kernel.invokeFunction('convertToInteractive',\n",
              "                                                     [key], {});\n",
              "          if (!dataTable) return;\n",
              "\n",
              "          const docLinkHtml = 'Like what you see? Visit the ' +\n",
              "            '<a target=\"_blank\" href=https://colab.research.google.com/notebooks/data_table.ipynb>data table notebook</a>'\n",
              "            + ' to learn more about interactive tables.';\n",
              "          element.innerHTML = '';\n",
              "          dataTable['output_type'] = 'display_data';\n",
              "          await google.colab.output.renderOutput(dataTable, element);\n",
              "          const docLink = document.createElement('div');\n",
              "          docLink.innerHTML = docLinkHtml;\n",
              "          element.appendChild(docLink);\n",
              "        }\n",
              "      </script>\n",
              "    </div>\n",
              "  </div>\n",
              "  "
            ]
          },
          "metadata": {},
          "execution_count": 52
        }
      ]
    },
    {
      "cell_type": "code",
      "source": [
        "# check the number of unique values in each feature\n",
        "Raycast_Platform_Distance = features[:,:16]\n",
        "Raycast_Platform_Type = features[:,16:32]\n",
        "Raycast_Projectile_Distance = features[:,32:48]\n",
        "Raycast_Projectile_OnTarget =features[:,48:64]\n",
        "Raycast_Projectile_Element = features[:,64:80]\n",
        "Action_Representation =features[:,80:98] \n",
        "Your_Positioning = features[:,98:100]\n",
        "Opponent_Positioning = features[:,100:102]\n",
        "Direction = features[:,102:104]\n",
        "Distance_To_Opponent = features[:,104:105]\n",
        "Angle_To_Opponent= features[:,105:107]\n",
        "Stocks = features[:,107:109]\n",
        "Percentage = features[:,109:111]\n",
        "Elemental_Gauge = features[:,111:113]\n",
        "Elemental_Advantage = features[:,113:114]\n",
        "Weight_Difference = features[:,114:115]\n",
        "  \n",
        "\n"
      ],
      "metadata": {
        "id": "-S9W--zNyFvg"
      },
      "execution_count": null,
      "outputs": []
    },
    {
      "cell_type": "code",
      "source": [
        "features_list = [Raycast_Platform_Distance, Raycast_Platform_Type, Raycast_Projectile_Distance,\n",
        "                 Raycast_Projectile_OnTarget, Raycast_Projectile_Element, Action_Representation,\n",
        "                 Your_Positioning, Opponent_Positioning, Direction, Distance_To_Opponent,\n",
        "                 Angle_To_Opponent, Stocks, Percentage, Elemental_Gauge, Elemental_Advantage,\n",
        "                 Weight_Difference]\n",
        "\n",
        "\n",
        "nan_feature_list = []\n",
        "for feature in features_list:\n",
        "  if np.isnan(feature).any():\n",
        "      nan_feature_list.append(feature)\n",
        "\n",
        "if len(nan_feature_list) == 0:\n",
        "  print('There is no NAN in session 2 dataset')\n",
        "else:\n",
        "  print(nan_feature_list)"
      ],
      "metadata": {
        "colab": {
          "base_uri": "https://localhost:8080/"
        },
        "id": "4yGA44sfyPO3",
        "outputId": "6edcd9f5-28a1-4173-cf44-8ec2aa43f9a7"
      },
      "execution_count": null,
      "outputs": [
        {
          "output_type": "stream",
          "name": "stdout",
          "text": [
            "There is no NAN in session 2 dataset\n"
          ]
        }
      ]
    },
    {
      "cell_type": "code",
      "source": [
        "features_list = [Raycast_Platform_Distance, Raycast_Platform_Type, Raycast_Projectile_Distance,\n",
        "                 Raycast_Projectile_OnTarget, Raycast_Projectile_Element, Action_Representation,\n",
        "                 Your_Positioning, Opponent_Positioning, Direction, Distance_To_Opponent,\n",
        "                 Angle_To_Opponent, Stocks, Percentage, Elemental_Gauge, Elemental_Advantage,\n",
        "                 Weight_Difference]\n",
        "\n",
        "feature_names = ['Raycast_Platform_Distance', 'Raycast_Platform_Type', 'Raycast_Projectile_Distance',\n",
        "                 'Raycast_Projectile_OnTarget', 'Raycast_Projectile_Element', 'Action_Representation',\n",
        "                 'Your_Positioning', 'Opponent_Positioning', 'Direction', 'Distance_To_Opponent',\n",
        "                 'Angle_To_Opponent', 'Stocks', 'Percentage', 'Elemental_Gauge', 'Elemental_Advantage',\n",
        "                 'Weight_Difference']\n",
        "\n",
        "# Preset the number of rows required\n",
        "num_cols = 4\n",
        "# Calculate the number of cols required\n",
        "num_rows = math.ceil(len(features_list) / num_cols)\n",
        "\n",
        "# Create subplots for each feature\n",
        "fig, axes = plt.subplots(nrows=num_rows, ncols=num_cols, figsize=(12, 3 * num_rows))\n",
        "\n",
        "# Flatten the axes array for easier indexing\n",
        "axes = axes.flatten()\n",
        "\n",
        "# Plot box plots for each feature\n",
        "for i, (feature, feature_name) in enumerate(zip(features_list,feature_names)):\n",
        "    sns.boxplot(x=feature, ax=axes[i])\n",
        "    axes[i].set_xlabel(f'Feature {i+1}')\n",
        "    axes[i].set_ylabel('')\n",
        "    axes[i].set_title(feature_name)\n",
        "\n",
        "# Remove empty subplots if the number of features is not a multiple of 4\n",
        "if len(features_list) % num_cols != 0:\n",
        "    for j in range(len(features_list) % num_cols, num_cols):\n",
        "        fig.delaxes(axes[-j-1])\n",
        "\n",
        "plt.tight_layout()\n",
        "plt.show()"
      ],
      "metadata": {
        "colab": {
          "base_uri": "https://localhost:8080/",
          "height": 652
        },
        "id": "uCzgd4saybD6",
        "outputId": "ad6cddf2-207a-41da-c6a5-fa458f35b3a2"
      },
      "execution_count": null,
      "outputs": [
        {
          "output_type": "display_data",
          "data": {
            "text/plain": [
              "<Figure size 1200x1200 with 16 Axes>"
            ],
            "image/png": "[encoded data removed]"
          },
          "metadata": {}
        }
      ]
    },
    {
      "cell_type": "markdown",
      "source": [
        "From the boxplots above, I found no outliners in any feature. "
      ],
      "metadata": {
        "id": "n2fK141LcrN3"
      }
    },
    {
      "cell_type": "code",
      "source": [
        "from sklearn.ensemble import RandomForestClassifier\n",
        "\n",
        "\n",
        "\n",
        "feature_names = [\n",
        "    \"Raycast_Platform_Distance\",\n",
        "    \"Raycast_Platform_Type\",\n",
        "    \"Raycast_Projectile_Distance\",\n",
        "    \"Raycast_Projectile_OnTarget\",\n",
        "    \"Raycast_Projectile_Element\",\n",
        "    \"Action_Representation\",\n",
        "    \"Your_Positioning\",\n",
        "    \"Opponent_Positioning\",\n",
        "    \"Direction\",\n",
        "    \"Distance_To_Opponent\",\n",
        "    \"Angle_To_Opponent\",\n",
        "    \"Stocks\",\n",
        "    \"Percentage\",\n",
        "    \"Elemental_Gauge\",\n",
        "    \"Elemental_Advantage\",\n",
        "    \"Weight_Difference\"\n",
        "]\n",
        "\n",
        "all_features = np.concatenate((\n",
        "    Raycast_Platform_Distance,\n",
        "    Raycast_Platform_Type,\n",
        "    Raycast_Projectile_Distance,\n",
        "    Raycast_Projectile_OnTarget,\n",
        "    Raycast_Projectile_Element,\n",
        "    Action_Representation,\n",
        "    Your_Positioning,\n",
        "    Opponent_Positioning,\n",
        "    Direction,\n",
        "    Distance_To_Opponent,\n",
        "    Angle_To_Opponent,\n",
        "    Stocks,\n",
        "    Percentage,\n",
        "    Elemental_Gauge,\n",
        "    Elemental_Advantage,\n",
        "    Weight_Difference\n",
        "    \n",
        "), axis = 1)\n",
        "\n",
        "\n",
        "y_train_direction =direction_action\n",
        "y_train_action = other_action\n",
        "\n",
        "clf_direction = RandomForestClassifier(n_estimators=100, random_state=42)\n",
        "clf_direction.fit(all_features, y_train_direction)\n",
        "\n",
        "clf_action = RandomForestClassifier(n_estimators=100, random_state=42)\n",
        "clf_action.fit(all_features, y_train_action)\n",
        "\n",
        "# Get the feature importances\n",
        "importances_direction = clf_direction.feature_importances_\n",
        "importances_action = clf_action.feature_importances_\n",
        "\n",
        "# Print feature importance\n",
        "importance_tuples = list(zip(feature_names, importances_direction))\n",
        "sorted_importances_direction = sorted(importance_tuples, key=lambda x: x[1], reverse=True)\n",
        "print('Importance Features related to Direction')\n",
        "for feature, importance in sorted_importances_direction:\n",
        "    print(f\"{feature}: {importance}\")\n",
        "\n",
        "print( '')\n",
        "# Print feature importance\n",
        "importance_tuples = list(zip(feature_names, importances_action))\n",
        "sorted_importances_action = sorted(importance_tuples, key=lambda x: x[1], reverse=True)\n",
        "print('Importance Features related to other Action')\n",
        "for feature, importance in sorted_importances_action:\n",
        "    print(f\"{feature}: {importance}\")"
      ],
      "metadata": {
        "colab": {
          "base_uri": "https://localhost:8080/"
        },
        "id": "-jNx9bSEWScl",
        "outputId": "9d740012-7f41-4a71-f413-83eed5128510"
      },
      "execution_count": null,
      "outputs": [
        {
          "output_type": "stream",
          "name": "stdout",
          "text": [
            "Importance Features related to Direction\n",
            "Stocks: 0.038566874216853\n",
            "Angle_To_Opponent: 0.029788239897060965\n",
            "Opponent_Positioning: 0.028314594922687\n",
            "Raycast_Platform_Type: 0.026015524229132347\n",
            "Action_Representation: 0.025144651763457874\n",
            "Direction: 0.023433685733281397\n",
            "Raycast_Projectile_OnTarget: 0.023347603937103983\n",
            "Distance_To_Opponent: 0.019212223493734647\n",
            "Elemental_Gauge: 0.01875597542074707\n",
            "Raycast_Projectile_Distance: 0.01446604799082779\n",
            "Your_Positioning: 0.014288001755187175\n",
            "Elemental_Advantage: 0.013833290193278997\n",
            "Raycast_Platform_Distance: 0.012236519244093103\n",
            "Weight_Difference: 0.012220299156362554\n",
            "Percentage: 0.004057453371196081\n",
            "Raycast_Projectile_Element: 0.0\n",
            "\n",
            "Importance Features related to other Action\n",
            "Angle_To_Opponent: 0.044257739749266924\n",
            "Elemental_Advantage: 0.03637552642923076\n",
            "Direction: 0.030607772325043858\n",
            "Elemental_Gauge: 0.02987189983128655\n",
            "Distance_To_Opponent: 0.027228296260771334\n",
            "Raycast_Projectile_OnTarget: 0.026785521061147594\n",
            "Raycast_Platform_Distance: 0.02617062464286105\n",
            "Opponent_Positioning: 0.025489274491258682\n",
            "Raycast_Projectile_Distance: 0.02385416661028104\n",
            "Raycast_Platform_Type: 0.022953007901797388\n",
            "Weight_Difference: 0.021467986145420857\n",
            "Action_Representation: 0.01548598617370769\n",
            "Your_Positioning: 0.011487814315202238\n",
            "Stocks: 0.006991762534795708\n",
            "Percentage: 3.253826783238493e-05\n",
            "Raycast_Projectile_Element: 0.0\n"
          ]
        }
      ]
    },
    {
      "cell_type": "code",
      "source": [
        "# Extract relevant features for training\n",
        "relevant_features_direction = []\n",
        "relevant_features_action = []\n",
        "\n",
        "threshold = 0.01\n",
        "for feature, importance in sorted_importances_direction:\n",
        "  if importance > threshold:\n",
        "    relevant_features_direction.append(feature)\n",
        "\n",
        "print('Relevant_features to Direction are: ', relevant_features_direction)\n",
        "\n",
        "for feature, importance in sorted_importances_action:\n",
        "  if importance > threshold:\n",
        "    relevant_features_action.append(feature)\n",
        "\n",
        "print('Relevant_features to Other Action are: ', relevant_features_action)\n"
      ],
      "metadata": {
        "colab": {
          "base_uri": "https://localhost:8080/"
        },
        "id": "mgWwtVxWbkp3",
        "outputId": "2c34d3b8-8f92-4058-93d3-8019eaa81a9f"
      },
      "execution_count": null,
      "outputs": [
        {
          "output_type": "stream",
          "name": "stdout",
          "text": [
            "Relevant_features to Direction are:  ['Stocks', 'Angle_To_Opponent', 'Opponent_Positioning', 'Raycast_Platform_Type', 'Action_Representation', 'Direction', 'Raycast_Projectile_OnTarget', 'Distance_To_Opponent', 'Elemental_Gauge', 'Raycast_Projectile_Distance', 'Your_Positioning', 'Elemental_Advantage', 'Raycast_Platform_Distance', 'Weight_Difference']\n",
            "Relevant_features to Other Action are:  ['Angle_To_Opponent', 'Elemental_Advantage', 'Direction', 'Elemental_Gauge', 'Distance_To_Opponent', 'Raycast_Projectile_OnTarget', 'Raycast_Platform_Distance', 'Opponent_Positioning', 'Raycast_Projectile_Distance', 'Raycast_Platform_Type', 'Weight_Difference', 'Action_Representation', 'Your_Positioning']\n"
          ]
        }
      ]
    },
    {
      "cell_type": "code",
      "source": [
        "# check the unique values of each feature\n",
        "non_variant_features = []\n",
        "for feature in features:\n",
        "  uniq_fea = np.unique(feature)\n",
        "  if len(uniq_fea) <= 1:\n",
        "    non_variant_features.append(uniq_fea)\n",
        "\n",
        "non_variant_features \n"
      ],
      "metadata": {
        "colab": {
          "base_uri": "https://localhost:8080/"
        },
        "id": "OD3jUbmXwtBl",
        "outputId": "d1e767f5-4f3a-48d3-8101-ee6d3d18ef28"
      },
      "execution_count": null,
      "outputs": [
        {
          "output_type": "execute_result",
          "data": {
            "text/plain": [
              "[]"
            ]
          },
          "metadata": {},
          "execution_count": 58
        }
      ]
    },
    {
      "cell_type": "markdown",
      "source": [
        "From the code, above, we can see that there is no feature with non-varying values"
      ],
      "metadata": {
        "id": "_Rahg1wVyb6A"
      }
    },
    {
      "cell_type": "markdown",
      "source": [
        "For goal2, we are required to train the fighter to fight against the opponent, thus we care more about the features below:\n",
        "    \n",
        "\n",
        "1.   Opponent Positioning\n",
        "2.   Distance to Opponent \n",
        "3.   Angle to Opponent \n",
        "4.   Raycast Projectile Distance (opponent's) \n",
        "5.   Raycast Projectile on Target (opponent's) \n",
        "6.   Stocks \n",
        "7.   Percentage \n",
        "8.   Weight Difference \n",
        "9.   Your_Positioning\n",
        "10.  Direction\n",
        "11.  Elemental Gauge\n",
        "12.  Elemental Advantage\n",
        "13.  Raycast_Platform_Type\n",
        "14.  Action_Representation\n",
        "15.  Raycast_Platform_Distance\n",
        " \n",
        "\n",
        "\n",
        "\n",
        "\n",
        "\n",
        "\n",
        "\n",
        "\n",
        "\n",
        "\n",
        "\n"
      ],
      "metadata": {
        "id": "12k7LenHDcn4"
      }
    },
    {
      "cell_type": "code",
      "source": [
        "x_pos = Opponent_Positioning[:,0]\n",
        "y_pos = Opponent_Positioning[:,1]\n",
        "plt.figure(figsize = (5,5))\n",
        "plt.scatter(x_pos, y_pos)\n",
        "plt.title('Opponent Position')\n",
        "plt.xlabel('X position')\n",
        "plt.ylabel('Y position')\n",
        "plt.show()\n"
      ],
      "metadata": {
        "colab": {
          "base_uri": "https://localhost:8080/",
          "height": 487
        },
        "id": "OgOMVj6ZEmo8",
        "outputId": "dcb05363-82af-4609-8f84-86f7bf74d77d"
      },
      "execution_count": null,
      "outputs": [
        {
          "output_type": "display_data",
          "data": {
            "text/plain": [
              "<Figure size 500x500 with 1 Axes>"
            ],
            "image/png": "[encoded data removed]"
          },
          "metadata": {}
        }
      ]
    },
    {
      "cell_type": "markdown",
      "source": [
        "From the plot above, we can see that the opponent position are concentrating at top right and bottom left."
      ],
      "metadata": {
        "id": "TQfCE2O3aIDX"
      }
    },
    {
      "cell_type": "code",
      "source": [
        "position = {'left': 0 , 'right': 0, 'top': 0, 'below': 0 }\n",
        "for sin, cos in Angle_To_Opponent:\n",
        "  angle_rad = np.arctan2(sin,cos)\n",
        "  angle_deg = np.degrees(angle_rad)\n",
        "  if -45 <= angle_deg <=45:\n",
        "    position['right'] +=1\n",
        "\n",
        "  elif 45 <= angle_deg <=135:\n",
        "    position['top']  +=1\n",
        "\n",
        "  elif -135 <= angle_deg <= -45:\n",
        "    position['below'] +=1\n",
        "\n",
        "  else:\n",
        "    position['left'] +=1\n",
        "\n",
        "\n",
        "print(position)"
      ],
      "metadata": {
        "colab": {
          "base_uri": "https://localhost:8080/"
        },
        "id": "l-K2Jd43I9vk",
        "outputId": "1aab6ee4-d1db-48d9-a9ae-0b1771684b74"
      },
      "execution_count": null,
      "outputs": [
        {
          "output_type": "stream",
          "name": "stdout",
          "text": [
            "{'left': 6, 'right': 5, 'top': 5, 'below': 7}\n"
          ]
        }
      ]
    },
    {
      "cell_type": "code",
      "source": [
        "# plot a barplot to visualize the position distribution\n",
        "plt.bar(position.keys(), position.values())\n",
        "plt.xlabel('Fighter Position Relative To His Opponent')\n",
        "plt.ylabel('Count')\n",
        "plt.title('Position Visualization')\n",
        "plt.show()"
      ],
      "metadata": {
        "colab": {
          "base_uri": "https://localhost:8080/",
          "height": 472
        },
        "id": "95MYJ-89IB0L",
        "outputId": "ceef301d-40e1-4e94-9795-461c369d25e3"
      },
      "execution_count": null,
      "outputs": [
        {
          "output_type": "display_data",
          "data": {
            "text/plain": [
              "<Figure size 640x480 with 1 Axes>"
            ],
            "image/png": "[encoded data removed]"
          },
          "metadata": {}
        }
      ]
    },
    {
      "cell_type": "markdown",
      "source": [
        "From the bar plot above, it's evident that the distribution of the fighter's position relative to his opponent is relatively balanced."
      ],
      "metadata": {
        "id": "fmDNNCKjlHsk"
      }
    },
    {
      "cell_type": "code",
      "source": [
        "relevant_features_dict = {'Stocks': Stocks,\n",
        " 'Direction': Direction,\n",
        " 'Angle_To_Opponent': Angle_To_Opponent,\n",
        " 'Raycast_Projectile_Distance': Raycast_Projectile_Distance,\n",
        " 'Raycast_Projectile_OnTarget': Raycast_Projectile_OnTarget,\n",
        " 'Elemental_Gauge': Elemental_Gauge,\n",
        " 'Elemental_Advantage': Elemental_Advantage,\n",
        " 'Distance_To_Opponent': Distance_To_Opponent,\n",
        " 'Raycast_Platform_Type': Raycast_Platform_Type,\n",
        " 'Weight_Difference': Weight_Difference,\n",
        " 'Action_Representation': Action_Representation,\n",
        " 'Opponent_Positioning': Opponent_Positioning,\n",
        " 'Raycast_Platform_Distance': Raycast_Platform_Distance,\n",
        " 'Your_Positioning': Your_Positioning,\n",
        " 'Percentage': Percentage}"
      ],
      "metadata": {
        "id": "RAwcY2mZq1vN"
      },
      "execution_count": null,
      "outputs": []
    },
    {
      "cell_type": "code",
      "source": [
        "concat_input_df = pd.DataFrame()\n",
        "print(f'The length of relevant features should be {len(all_features)}' )\n",
        "print(type(all_features))\n",
        "for feature_name, feature_type in relevant_features_dict.items():\n",
        "    input_df = pd.DataFrame(feature_type, columns=[f'feature{i+1}' for i in range(feature_type.shape[1])])\n",
        "    concat_input_df = pd.concat([concat_input_df, input_df], axis = 1)\n",
        "\n",
        "concat_input_df.shape"
      ],
      "metadata": {
        "colab": {
          "base_uri": "https://localhost:8080/"
        },
        "id": "QoTqT7wQo-FB",
        "outputId": "69d9a5e7-c3cd-4bde-dfd2-4386c3be816c"
      },
      "execution_count": null,
      "outputs": [
        {
          "output_type": "stream",
          "name": "stdout",
          "text": [
            "The length of relevant features should be 23\n",
            "<class 'numpy.ndarray'>\n"
          ]
        },
        {
          "output_type": "execute_result",
          "data": {
            "text/plain": [
              "(23, 99)"
            ]
          },
          "metadata": {},
          "execution_count": 63
        }
      ]
    },
    {
      "cell_type": "code",
      "source": [
        "class MyDataset(Dataset):\n",
        "    def __init__(self, input_data, target_direction, target_other_action):\n",
        "        self.input_data = torch.Tensor(input_data)\n",
        "        self.target_direction = torch.LongTensor(target_direction)\n",
        "        self.target_other_action = torch.LongTensor(target_other_action)\n",
        "\n",
        "    def __len__(self):\n",
        "        return len(self.input_data)\n",
        "\n",
        "    def __getitem__(self, idx):\n",
        "        return (\n",
        "            self.input_data[idx],\n",
        "            self.target_direction[idx],\n",
        "            self.target_other_action[idx]\n",
        "        )\n",
        "\n",
        "\n",
        "input_data = concat_input_df.values\n",
        "target_direction = direction_action \n",
        "target_other_action = other_action\n",
        "\n",
        "# Split the data into train and test sets\n",
        "input_train, input_test, target_direction_train, target_direction_test, target_other_action_train, target_other_action_test = train_test_split(\n",
        "    input_data, target_direction, target_other_action, test_size=0.2, random_state=42)\n",
        "\n",
        "# Create MyDataset instances for train and test sets\n",
        "train_dataset = MyDataset(input_train, target_direction_train, target_other_action_train)\n",
        "test_dataset = MyDataset(input_test, target_direction_test, target_other_action_test)\n",
        "\n"
      ],
      "metadata": {
        "id": "ZKEtR26klD3S"
      },
      "execution_count": null,
      "outputs": []
    },
    {
      "cell_type": "markdown",
      "source": [
        "# Build the two-headed neural network model"
      ],
      "metadata": {
        "id": "r7v7HZN-xSFv"
      }
    },
    {
      "cell_type": "code",
      "source": [
        "class TwoHeadedModel(nn.Module):\n",
        "    def __init__(self, input_size, hidden_size, output_size_direction, output_size_other):\n",
        "        super(TwoHeadedModel, self).__init__()\n",
        "        \n",
        "        self.shared_layers = nn.Sequential(\n",
        "            nn.Linear(input_size, hidden_size),\n",
        "            nn.LeakyReLU(),\n",
        "            nn.Linear(hidden_size, hidden_size),\n",
        "            nn.LeakyReLU()\n",
        "        )\n",
        "        \n",
        "        self.head_direction = nn.Sequential(\n",
        "            nn.Linear(hidden_size, hidden_size),\n",
        "            nn.LeakyReLU(),\n",
        "            nn.Linear(hidden_size, output_size_direction)\n",
        "        )\n",
        "        \n",
        "        self.head_other = nn.Sequential(\n",
        "            nn.Linear(hidden_size, hidden_size),\n",
        "            nn.LeakyReLU(),\n",
        "            nn.Linear(hidden_size, output_size_other)\n",
        "        )\n",
        "\n",
        "    def forward(self, x):\n",
        "        shared_features = self.shared_layers(x)\n",
        "        direction_output = self.head_direction(shared_features)\n",
        "        other_output = self.head_other(shared_features)\n",
        "        return direction_output, other_output\n",
        "\n",
        "\n",
        "\n",
        "\n"
      ],
      "metadata": {
        "id": "BDmNPPnjxGRU"
      },
      "execution_count": null,
      "outputs": []
    },
    {
      "cell_type": "code",
      "source": [
        "# Define the dimensions of the model\n",
        "input_size = 57  # The number of input features\n",
        "hidden_size = 36  # The number of hidden units in the model\n",
        "\n",
        "\n",
        "# Define the output sizes for the new task\n",
        "new_output_size_direction = 9\n",
        "new_output_size_other = 6\n",
        "\n",
        "# Set up the training parameters\n",
        "batch_size = 8\n",
        "learning_rate = 0.001\n",
        "num_epochs = 30\n",
        "\n",
        "# Load the session 1 model\n",
        "model_path = '/content/drive/MyDrive/AI_Projects/AI Arena/session1_trained_model.pt'\n",
        "model = TwoHeadedModel(input_size, hidden_size, new_output_size_direction, new_output_size_other)\n",
        "model.load_state_dict(torch.load(model_path))\n",
        "\n",
        "# Specify the number of folds\n",
        "num_folds = 5\n",
        "# Create an instance of StratifiedKFold\n",
        "kfold = StratifiedKFold(n_splits=num_folds, shuffle=True, random_state=42)\n",
        "\n",
        "for fold, (train_index, test_index) in enumerate(kfold.split(input_data, target_direction.argmax(1))):\n",
        "    # Split the data into train and test sets for the current fold\n",
        "    input_train, input_test = input_data[train_index], input_data[test_index]\n",
        "    target_direction_train, target_direction_test = target_direction[train_index], target_direction[test_index]\n",
        "    target_other_action_train, target_other_action_test = target_other_action[train_index], target_other_action[test_index]\n",
        "\n",
        "    # Create MyDataset instances for train and test sets\n",
        "    train_dataset = MyDataset(input_train, target_direction_train, target_other_action_train)\n",
        "    test_dataset = MyDataset(input_test, target_direction_test, target_other_action_test)\n",
        "\n",
        "    # Create dataloaders for train and test sets\n",
        "    train_loader = DataLoader(train_dataset, batch_size=batch_size, shuffle=True)\n",
        "    test_loader = DataLoader(test_dataset, batch_size=batch_size, shuffle=False)\n",
        "\n",
        "    # Freeze the weights of the model\n",
        "    for param in model.parameters():\n",
        "        param.requires_grad = False\n",
        "\n",
        "    # Replace the last layers of the model\n",
        "    model.head_direction[-1] = nn.Linear(hidden_size, new_output_size_direction)\n",
        "    model.head_other[-1] = nn.Linear(hidden_size, new_output_size_other)\n",
        "\n",
        "    # Now, only the weights of the new layers will be updated during training\n",
        "\n",
        "    # Define the loss functions\n",
        "    criterion_direction = nn.CrossEntropyLoss()\n",
        "    criterion_other = nn.CrossEntropyLoss()\n",
        "\n",
        "    # Find the parameters that require gradients\n",
        "    parameters_to_optimize = filter(lambda p: p.requires_grad, model.parameters())\n",
        "\n",
        "    # Define the optimizer\n",
        "    weight_decay = 0.01\n",
        "    optimizer = optim.Adam(parameters_to_optimize, lr=learning_rate, weight_decay=weight_decay)\n",
        "\n",
        "    # Train the model on session 2\n",
        "    for epoch in range(num_epochs):\n",
        "        model.train()\n",
        "        running_loss = 0.0\n",
        "        for inputs, targets_direction, targets_other in train_loader:\n",
        "            inputs = inputs[:, :57]\n",
        "            targets_direction = targets_direction[:, :57]\n",
        "            targets_other = targets_other[:, :57]\n",
        "\n",
        "            optimizer.zero_grad()\n",
        "            outputs_direction, outputs_other = model(inputs)\n",
        "\n",
        "            # Apply sigmoid activation to outputs_direction\n",
        "            outputs_direction = torch.sigmoid(outputs_direction)\n",
        "\n",
        "            # Convert targets_other to class indices\n",
        "            targets_other_indices = targets_other.argmax(1)\n",
        "\n",
        "            # Compute the losses\n",
        "            loss_direction = criterion_direction(outputs_direction, targets_direction.float())\n",
        "            loss_other = criterion_other(outputs_other, targets_other_indices)\n",
        "\n",
        "            loss = loss_direction + loss_other\n",
        "\n",
        "            loss.backward()\n",
        "            optimizer.step()\n",
        "\n",
        "\n",
        "            running_loss += loss.item() * inputs.size(0)\n",
        "\n",
        "        epoch_loss = running_loss / len(train_dataset)\n",
        "        print(f\"Fold {fold+1} - Epoch {epoch+1}/{num_epochs} | Training Loss: {epoch_loss:.4f}\")\n",
        "\n",
        "\n"
      ],
      "metadata": {
        "colab": {
          "base_uri": "https://localhost:8080/"
        },
        "id": "HqqwEQJXzhEM",
        "outputId": "418d33b3-d1c3-41ae-ddf7-3d775bdf1aa7"
      },
      "execution_count": null,
      "outputs": [
        {
          "output_type": "stream",
          "name": "stdout",
          "text": [
            "Fold 1 - Epoch 1/30 | Training Loss: 4.0465\n",
            "Fold 1 - Epoch 2/30 | Training Loss: 4.0188\n",
            "Fold 1 - Epoch 3/30 | Training Loss: 3.9926\n",
            "Fold 1 - Epoch 4/30 | Training Loss: 3.9668\n",
            "Fold 1 - Epoch 5/30 | Training Loss: 3.9409\n",
            "Fold 1 - Epoch 6/30 | Training Loss: 3.9161\n",
            "Fold 1 - Epoch 7/30 | Training Loss: 3.8906\n",
            "Fold 1 - Epoch 8/30 | Training Loss: 3.8662\n",
            "Fold 1 - Epoch 9/30 | Training Loss: 3.8414\n",
            "Fold 1 - Epoch 10/30 | Training Loss: 3.8173\n",
            "Fold 1 - Epoch 11/30 | Training Loss: 3.7942\n",
            "Fold 1 - Epoch 12/30 | Training Loss: 3.7703\n",
            "Fold 1 - Epoch 13/30 | Training Loss: 3.7471\n",
            "Fold 1 - Epoch 14/30 | Training Loss: 3.7249\n",
            "Fold 1 - Epoch 15/30 | Training Loss: 3.7033\n",
            "Fold 1 - Epoch 16/30 | Training Loss: 3.6815\n",
            "Fold 1 - Epoch 17/30 | Training Loss: 3.6600\n",
            "Fold 1 - Epoch 18/30 | Training Loss: 3.6385\n",
            "Fold 1 - Epoch 19/30 | Training Loss: 3.6182\n",
            "Fold 1 - Epoch 20/30 | Training Loss: 3.5971\n",
            "Fold 1 - Epoch 21/30 | Training Loss: 3.5771\n",
            "Fold 1 - Epoch 22/30 | Training Loss: 3.5574\n",
            "Fold 1 - Epoch 23/30 | Training Loss: 3.5384\n",
            "Fold 1 - Epoch 24/30 | Training Loss: 3.5183\n",
            "Fold 1 - Epoch 25/30 | Training Loss: 3.4996\n",
            "Fold 1 - Epoch 26/30 | Training Loss: 3.4802\n",
            "Fold 1 - Epoch 27/30 | Training Loss: 3.4629\n",
            "Fold 1 - Epoch 28/30 | Training Loss: 3.4442\n",
            "Fold 1 - Epoch 29/30 | Training Loss: 3.4260\n",
            "Fold 1 - Epoch 30/30 | Training Loss: 3.4094\n",
            "Fold 2 - Epoch 1/30 | Training Loss: 3.9584\n",
            "Fold 2 - Epoch 2/30 | Training Loss: 3.9328\n",
            "Fold 2 - Epoch 3/30 | Training Loss: 3.9087\n",
            "Fold 2 - Epoch 4/30 | Training Loss: 3.8849\n"
          ]
        },
        {
          "output_type": "stream",
          "name": "stderr",
          "text": [
            "/usr/local/lib/python3.10/dist-packages/sklearn/model_selection/_split.py:700: UserWarning: The least populated class in y has only 4 members, which is less than n_splits=5.\n",
            "  warnings.warn(\n"
          ]
        },
        {
          "output_type": "stream",
          "name": "stdout",
          "text": [
            "Fold 2 - Epoch 5/30 | Training Loss: 3.8613\n",
            "Fold 2 - Epoch 6/30 | Training Loss: 3.8373\n",
            "Fold 2 - Epoch 7/30 | Training Loss: 3.8146\n",
            "Fold 2 - Epoch 8/30 | Training Loss: 3.7907\n",
            "Fold 2 - Epoch 9/30 | Training Loss: 3.7687\n",
            "Fold 2 - Epoch 10/30 | Training Loss: 3.7459\n",
            "Fold 2 - Epoch 11/30 | Training Loss: 3.7248\n",
            "Fold 2 - Epoch 12/30 | Training Loss: 3.7030\n",
            "Fold 2 - Epoch 13/30 | Training Loss: 3.6806\n",
            "Fold 2 - Epoch 14/30 | Training Loss: 3.6599\n",
            "Fold 2 - Epoch 15/30 | Training Loss: 3.6382\n",
            "Fold 2 - Epoch 16/30 | Training Loss: 3.6174\n",
            "Fold 2 - Epoch 17/30 | Training Loss: 3.5974\n",
            "Fold 2 - Epoch 18/30 | Training Loss: 3.5753\n",
            "Fold 2 - Epoch 19/30 | Training Loss: 3.5571\n",
            "Fold 2 - Epoch 20/30 | Training Loss: 3.5367\n",
            "Fold 2 - Epoch 21/30 | Training Loss: 3.5180\n",
            "Fold 2 - Epoch 22/30 | Training Loss: 3.4989\n",
            "Fold 2 - Epoch 23/30 | Training Loss: 3.4811\n",
            "Fold 2 - Epoch 24/30 | Training Loss: 3.4634\n",
            "Fold 2 - Epoch 25/30 | Training Loss: 3.4447\n",
            "Fold 2 - Epoch 26/30 | Training Loss: 3.4282\n",
            "Fold 2 - Epoch 27/30 | Training Loss: 3.4101\n",
            "Fold 2 - Epoch 28/30 | Training Loss: 3.3919\n",
            "Fold 2 - Epoch 29/30 | Training Loss: 3.3759\n",
            "Fold 2 - Epoch 30/30 | Training Loss: 3.3592\n",
            "Fold 3 - Epoch 1/30 | Training Loss: 4.0226\n",
            "Fold 3 - Epoch 2/30 | Training Loss: 3.9984\n",
            "Fold 3 - Epoch 3/30 | Training Loss: 3.9759\n",
            "Fold 3 - Epoch 4/30 | Training Loss: 3.9527\n",
            "Fold 3 - Epoch 5/30 | Training Loss: 3.9318\n",
            "Fold 3 - Epoch 6/30 | Training Loss: 3.9106\n",
            "Fold 3 - Epoch 7/30 | Training Loss: 3.8893\n",
            "Fold 3 - Epoch 8/30 | Training Loss: 3.8686\n",
            "Fold 3 - Epoch 9/30 | Training Loss: 3.8476\n",
            "Fold 3 - Epoch 10/30 | Training Loss: 3.8279\n",
            "Fold 3 - Epoch 11/30 | Training Loss: 3.8080\n",
            "Fold 3 - Epoch 12/30 | Training Loss: 3.7896\n",
            "Fold 3 - Epoch 13/30 | Training Loss: 3.7707\n",
            "Fold 3 - Epoch 14/30 | Training Loss: 3.7513\n",
            "Fold 3 - Epoch 15/30 | Training Loss: 3.7337\n",
            "Fold 3 - Epoch 16/30 | Training Loss: 3.7159\n",
            "Fold 3 - Epoch 17/30 | Training Loss: 3.6968\n",
            "Fold 3 - Epoch 18/30 | Training Loss: 3.6797\n",
            "Fold 3 - Epoch 19/30 | Training Loss: 3.6620\n",
            "Fold 3 - Epoch 20/30 | Training Loss: 3.6448\n",
            "Fold 3 - Epoch 21/30 | Training Loss: 3.6284\n",
            "Fold 3 - Epoch 22/30 | Training Loss: 3.6125\n",
            "Fold 3 - Epoch 23/30 | Training Loss: 3.5950\n",
            "Fold 3 - Epoch 24/30 | Training Loss: 3.5784\n",
            "Fold 3 - Epoch 25/30 | Training Loss: 3.5625\n",
            "Fold 3 - Epoch 26/30 | Training Loss: 3.5469\n",
            "Fold 3 - Epoch 27/30 | Training Loss: 3.5310\n",
            "Fold 3 - Epoch 28/30 | Training Loss: 3.5160\n",
            "Fold 3 - Epoch 29/30 | Training Loss: 3.5008\n",
            "Fold 3 - Epoch 30/30 | Training Loss: 3.4853\n",
            "Fold 4 - Epoch 1/30 | Training Loss: 4.0732\n",
            "Fold 4 - Epoch 2/30 | Training Loss: 4.0485\n",
            "Fold 4 - Epoch 3/30 | Training Loss: 4.0244\n",
            "Fold 4 - Epoch 4/30 | Training Loss: 4.0000\n",
            "Fold 4 - Epoch 5/30 | Training Loss: 3.9772\n",
            "Fold 4 - Epoch 6/30 | Training Loss: 3.9531\n",
            "Fold 4 - Epoch 7/30 | Training Loss: 3.9281\n",
            "Fold 4 - Epoch 8/30 | Training Loss: 3.9059\n",
            "Fold 4 - Epoch 9/30 | Training Loss: 3.8817\n",
            "Fold 4 - Epoch 10/30 | Training Loss: 3.8591\n",
            "Fold 4 - Epoch 11/30 | Training Loss: 3.8348\n",
            "Fold 4 - Epoch 12/30 | Training Loss: 3.8123\n",
            "Fold 4 - Epoch 13/30 | Training Loss: 3.7888\n",
            "Fold 4 - Epoch 14/30 | Training Loss: 3.7659\n",
            "Fold 4 - Epoch 15/30 | Training Loss: 3.7433\n",
            "Fold 4 - Epoch 16/30 | Training Loss: 3.7209\n",
            "Fold 4 - Epoch 17/30 | Training Loss: 3.6982\n",
            "Fold 4 - Epoch 18/30 | Training Loss: 3.6760\n",
            "Fold 4 - Epoch 19/30 | Training Loss: 3.6544\n",
            "Fold 4 - Epoch 20/30 | Training Loss: 3.6333\n",
            "Fold 4 - Epoch 21/30 | Training Loss: 3.6124\n",
            "Fold 4 - Epoch 22/30 | Training Loss: 3.5909\n",
            "Fold 4 - Epoch 23/30 | Training Loss: 3.5690\n",
            "Fold 4 - Epoch 24/30 | Training Loss: 3.5499\n",
            "Fold 4 - Epoch 25/30 | Training Loss: 3.5291\n",
            "Fold 4 - Epoch 26/30 | Training Loss: 3.5100\n",
            "Fold 4 - Epoch 27/30 | Training Loss: 3.4904\n",
            "Fold 4 - Epoch 28/30 | Training Loss: 3.4714\n",
            "Fold 4 - Epoch 29/30 | Training Loss: 3.4534\n",
            "Fold 4 - Epoch 30/30 | Training Loss: 3.4346\n",
            "Fold 5 - Epoch 1/30 | Training Loss: 4.0164\n",
            "Fold 5 - Epoch 2/30 | Training Loss: 3.9920\n",
            "Fold 5 - Epoch 3/30 | Training Loss: 3.9688\n",
            "Fold 5 - Epoch 4/30 | Training Loss: 3.9457\n",
            "Fold 5 - Epoch 5/30 | Training Loss: 3.9218\n",
            "Fold 5 - Epoch 6/30 | Training Loss: 3.9001\n",
            "Fold 5 - Epoch 7/30 | Training Loss: 3.8770\n",
            "Fold 5 - Epoch 8/30 | Training Loss: 3.8553\n",
            "Fold 5 - Epoch 9/30 | Training Loss: 3.8343\n",
            "Fold 5 - Epoch 10/30 | Training Loss: 3.8124\n",
            "Fold 5 - Epoch 11/30 | Training Loss: 3.7911\n",
            "Fold 5 - Epoch 12/30 | Training Loss: 3.7708\n",
            "Fold 5 - Epoch 13/30 | Training Loss: 3.7503\n",
            "Fold 5 - Epoch 14/30 | Training Loss: 3.7306\n",
            "Fold 5 - Epoch 15/30 | Training Loss: 3.7104\n",
            "Fold 5 - Epoch 16/30 | Training Loss: 3.6909\n",
            "Fold 5 - Epoch 17/30 | Training Loss: 3.6722\n",
            "Fold 5 - Epoch 18/30 | Training Loss: 3.6523\n",
            "Fold 5 - Epoch 19/30 | Training Loss: 3.6356\n",
            "Fold 5 - Epoch 20/30 | Training Loss: 3.6158\n",
            "Fold 5 - Epoch 21/30 | Training Loss: 3.5989\n",
            "Fold 5 - Epoch 22/30 | Training Loss: 3.5810\n",
            "Fold 5 - Epoch 23/30 | Training Loss: 3.5637\n",
            "Fold 5 - Epoch 24/30 | Training Loss: 3.5473\n",
            "Fold 5 - Epoch 25/30 | Training Loss: 3.5295\n",
            "Fold 5 - Epoch 26/30 | Training Loss: 3.5134\n",
            "Fold 5 - Epoch 27/30 | Training Loss: 3.4976\n",
            "Fold 5 - Epoch 28/30 | Training Loss: 3.4823\n",
            "Fold 5 - Epoch 29/30 | Training Loss: 3.4655\n",
            "Fold 5 - Epoch 30/30 | Training Loss: 3.4505\n"
          ]
        }
      ]
    },
    {
      "cell_type": "markdown",
      "source": [
        "# Evaluation the model accuracy"
      ],
      "metadata": {
        "id": "Wdz6k4W9xj1e"
      }
    },
    {
      "cell_type": "code",
      "source": [
        "import torch\n",
        "from sklearn.metrics import classification_report, confusion_matrix, f1_score\n",
        "\n",
        "model.eval()\n",
        "total_correct_direction = 0\n",
        "total_correct_other_action = 0\n",
        "total_samples = 0\n",
        "predicted_directions = []\n",
        "predicted_others = []\n",
        "targets_directions = []\n",
        "targets_others = []\n",
        "\n",
        "with torch.no_grad():\n",
        "    for inputs, targets_direction, targets_other in test_loader:\n",
        "        inputs = inputs[:, :57]\n",
        "        targets_direction = targets_direction[:, :57]\n",
        "        targets_other = targets_other[:, :57]\n",
        "\n",
        "        outputs_direction, outputs_other = model(inputs)\n",
        "        \n",
        "        _, predicted_direction = torch.max(outputs_direction, 1)\n",
        "        _, predicted_other = torch.max(outputs_other, 1)\n",
        "\n",
        "        total_correct_direction += (predicted_direction == targets_direction.argmax(dim=1)).sum().item()\n",
        "        total_correct_other_action += (predicted_other == targets_other.argmax(dim=1)).sum().item()\n",
        "        \n",
        "        total_samples += inputs.size(0)\n",
        "        \n",
        "        # Collect predictions and targets for later evaluation\n",
        "        predicted_directions.extend(predicted_direction.cpu().numpy())\n",
        "        predicted_others.extend(predicted_other.cpu().numpy())\n",
        "        targets_directions.extend(targets_direction.argmax(dim=1).cpu().numpy())\n",
        "        targets_others.extend(targets_other.argmax(dim=1).cpu().numpy())\n",
        "\n",
        "accuracy_direction = total_correct_direction / total_samples * 100\n",
        "print(f\"Accuracy on Session 2 (Directin) Testing Data: {accuracy_direction:.4f}%\")\n",
        "\n",
        "\n",
        "accuracy_direction_other_action = total_correct_other_action / total_samples * 100\n",
        "print(f\"Accuracy on Session 2 (Other Action) Testing Data: {accuracy_direction_other_action:.4f}%\")\n",
        "\n",
        "\n",
        "# Convert the lists to numpy arrays\n",
        "predicted_directions = np.array(predicted_directions)\n",
        "predicted_others = np.array(predicted_others)\n",
        "targets_directions = np.array(targets_directions)\n",
        "targets_others = np.array(targets_others)\n",
        "\n",
        "# Calculate F1 score\n",
        "f1_direction = f1_score(targets_directions, predicted_directions, average='weighted')\n",
        "f1_other = f1_score(targets_others, predicted_others, average='weighted')\n",
        "print(f\"F1 Score (Direction): {f1_direction:.4f}\")\n",
        "print(f\"F1 Score (Other): {f1_other:.4f}\")\n",
        "\n",
        "# Calculate confusion matrix\n",
        "confusion_matrix_direction = confusion_matrix(targets_directions, predicted_directions)\n",
        "confusion_matrix_other = confusion_matrix(targets_others, predicted_others)\n",
        "print(\"Confusion Matrix (Direction):\")\n",
        "print(confusion_matrix_direction)\n",
        "print(\"Confusion Matrix (Other):\")\n",
        "print(confusion_matrix_other)\n",
        "\n",
        "# Calculate classification report\n",
        "classification_report_direction = classification_report(targets_directions, predicted_directions)\n",
        "classification_report_other = classification_report(targets_others, predicted_others)\n",
        "print(\"Classification Report (Direction):\")\n",
        "print(classification_report_direction)\n",
        "print(\"Classification Report (Other):\")\n",
        "print(classification_report_other)\n"
      ],
      "metadata": {
        "id": "hRCIdZS2IYlJ",
        "colab": {
          "base_uri": "https://localhost:8080/"
        },
        "outputId": "57fca2e4-56a8-4284-9fdf-d63337b690d2"
      },
      "execution_count": null,
      "outputs": [
        {
          "output_type": "stream",
          "name": "stdout",
          "text": [
            "Accuracy on Session 2 (Directin) Testing Data: 25.0000%\n",
            "Accuracy on Session 2 (Other Action) Testing Data: 100.0000%\n",
            "F1 Score (Direction): 0.1000\n",
            "F1 Score (Other): 1.0000\n",
            "Confusion Matrix (Direction):\n",
            "[[1 0 0 0]\n",
            " [1 0 0 0]\n",
            " [1 0 0 0]\n",
            " [1 0 0 0]]\n",
            "Confusion Matrix (Other):\n",
            "[[4]]\n",
            "Classification Report (Direction):\n",
            "              precision    recall  f1-score   support\n",
            "\n",
            "           0       0.25      1.00      0.40         1\n",
            "           2       0.00      0.00      0.00         1\n",
            "           4       0.00      0.00      0.00         1\n",
            "           8       0.00      0.00      0.00         1\n",
            "\n",
            "    accuracy                           0.25         4\n",
            "   macro avg       0.06      0.25      0.10         4\n",
            "weighted avg       0.06      0.25      0.10         4\n",
            "\n",
            "Classification Report (Other):\n",
            "              precision    recall  f1-score   support\n",
            "\n",
            "           5       1.00      1.00      1.00         4\n",
            "\n",
            "    accuracy                           1.00         4\n",
            "   macro avg       1.00      1.00      1.00         4\n",
            "weighted avg       1.00      1.00      1.00         4\n",
            "\n"
          ]
        },
        {
          "output_type": "stream",
          "name": "stderr",
          "text": [
            "/usr/local/lib/python3.10/dist-packages/sklearn/metrics/_classification.py:1344: UndefinedMetricWarning: Precision and F-score are ill-defined and being set to 0.0 in labels with no predicted samples. Use `zero_division` parameter to control this behavior.\n",
            "  _warn_prf(average, modifier, msg_start, len(result))\n",
            "/usr/local/lib/python3.10/dist-packages/sklearn/metrics/_classification.py:1344: UndefinedMetricWarning: Precision and F-score are ill-defined and being set to 0.0 in labels with no predicted samples. Use `zero_division` parameter to control this behavior.\n",
            "  _warn_prf(average, modifier, msg_start, len(result))\n",
            "/usr/local/lib/python3.10/dist-packages/sklearn/metrics/_classification.py:1344: UndefinedMetricWarning: Precision and F-score are ill-defined and being set to 0.0 in labels with no predicted samples. Use `zero_division` parameter to control this behavior.\n",
            "  _warn_prf(average, modifier, msg_start, len(result))\n"
          ]
        }
      ]
    },
    {
      "cell_type": "code",
      "source": [
        "torch.save(model.state_dict(),'session2_trained_model.pt')"
      ],
      "metadata": {
        "id": "Tv6W7fy4xm00"
      },
      "execution_count": null,
      "outputs": []
    },
    {
      "cell_type": "code",
      "source": [],
      "metadata": {
        "id": "0yBg0QI61Du5"
      },
      "execution_count": null,
      "outputs": []
    }
  ]
}