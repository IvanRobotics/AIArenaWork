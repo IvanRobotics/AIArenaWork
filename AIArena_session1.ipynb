{
  "nbformat": 4,
  "nbformat_minor": 0,
  "metadata": {
    "colab": {
      "provenance": [],
      "authorship_tag": "ABX9TyNzwoec1Vpu0p+39OZL1IKc",
      "include_colab_link": true
    },
    "kernelspec": {
      "name": "python3",
      "display_name": "Python 3"
    },
    "language_info": {
      "name": "python"
    }
  },
  "cells": [
    {
      "cell_type": "markdown",
      "metadata": {
        "id": "view-in-github",
        "colab_type": "text"
      },
      "source": [
        "<a href=\"https://colab.research.google.com/github/IvanRobotics/AIArenaWork/blob/main/AIArena_session1.ipynb\" target=\"_parent\"><img src=\"https://colab.research.google.com/assets/colab-badge.svg\" alt=\"Open In Colab\"/></a>"
      ]
    },
    {
      "cell_type": "code",
      "execution_count": null,
      "metadata": {
        "id": "2HV5ei2jQ5J1",
        "colab": {
          "base_uri": "https://localhost:8080/"
        },
        "outputId": "ae1e9a89-8661-4d80-862e-2c02ee730212"
      },
      "outputs": [
        {
          "output_type": "stream",
          "name": "stdout",
          "text": [
            "Drive already mounted at /content/drive; to attempt to forcibly remount, call drive.mount(\"/content/drive\", force_remount=True).\n"
          ]
        }
      ],
      "source": [
        "from google.colab import drive\n",
        "drive.mount('/content/drive')"
      ]
    },
    {
      "cell_type": "markdown",
      "source": [
        "### Import Libraries"
      ],
      "metadata": {
        "id": "2iur63f6SJPm"
      }
    },
    {
      "cell_type": "code",
      "source": [
        "import matplotlib.pyplot as plt \n",
        "from sklearn.utils import resample\n",
        "import seaborn as sns\n",
        "import pandas as pd\n",
        "import numpy as np\n",
        "import json\n",
        "import math\n",
        "import torch\n",
        "import torch.nn as nn\n",
        "import torch.optim as optim\n",
        "from torch.utils.data import DataLoader, Subset, Dataset\n",
        "from sklearn.model_selection import StratifiedKFold\n",
        "from sklearn.model_selection import train_test_split\n",
        "from torch.utils.data.dataset import random_split\n",
        "\n"
      ],
      "metadata": {
        "id": "1EjT2hwNSIXf"
      },
      "execution_count": null,
      "outputs": []
    },
    {
      "cell_type": "markdown",
      "source": [
        "### Load the json data and append them into corresponding list:"
      ],
      "metadata": {
        "id": "8bDTSbeiMCfX"
      }
    },
    {
      "cell_type": "code",
      "source": [
        "# load the JSON file\n",
        "file_path = '/content/drive/MyDrive/AI_Projects/AI Arena/training-data--session-1.json'\n",
        "with open(file_path) as file:\n",
        "  json_data_session1 = json.load(file)\n",
        "\n",
        "# Extract All Features, Directions and actions\n",
        "features = []\n",
        "direction_action = []\n",
        "other_action = []\n",
        "direction_type = []\n",
        "other_action_type = []\n",
        "\n",
        "for entry in json_data_session1:\n",
        "  state = entry['state'][0]\n",
        "  features.append(state[:116])\n",
        "  direction_type.append(entry['action']['direction'][0].index(1))\n",
        "  other_action_type.append(entry['action']['other'][0])\n",
        "  direction_action.append(entry['action']['direction'][0])\n",
        "  other_action.append(entry['action']['other'][0])\n",
        "\n",
        "\n",
        "# convert to numpy array\n",
        "features = np.array(features)\n",
        "direction_action = np.array(direction_action)\n",
        "other_action = np.array(other_action)\n",
        "\n"
      ],
      "metadata": {
        "id": "114DNbsbSZgm"
      },
      "execution_count": null,
      "outputs": []
    },
    {
      "cell_type": "code",
      "source": [
        "print(f'Unique index type:  {np.unique(direction_type)}')\n",
        "print(f'Frequency of the fighter goes to the right: {direction_type.count(2)}')\n",
        "print(f'Frequency of the fighter goes to the left: {direction_type.count(6)}')\n",
        "print(f'Frequency of the fighter goes to the nothing: {direction_type.count(8)}')"
      ],
      "metadata": {
        "colab": {
          "base_uri": "https://localhost:8080/"
        },
        "id": "MfMoUscbodvZ",
        "outputId": "681925cb-edcb-4324-ca51-9920db9a9400"
      },
      "execution_count": null,
      "outputs": [
        {
          "output_type": "stream",
          "name": "stdout",
          "text": [
            "Unique index type:  [2 6 8]\n",
            "Frequency of the fighter goes to the right: 22\n",
            "Frequency of the fighter goes to the left: 4\n",
            "Frequency of the fighter goes to the nothing: 3\n"
          ]
        }
      ]
    },
    {
      "cell_type": "markdown",
      "source": [
        "### Summary:\n",
        "\n",
        "Direction Actions: [up (0), up-right (1), right (2), down-right (3), down (4), down-left (5), left (6), up-left (7), nothing (8)]\n",
        "\n",
        "The unique index types of the direction are 2, 6, and 8, which correspond to the fighter's movements to the right, left, and not moving, respectively. The data shows a high frequency of the fighter consistently moving to the right, while there is a significantly lower frequency of the fighter moving to the left or not moving.\n",
        "\n"
      ],
      "metadata": {
        "id": "N77db8Zaoh8o"
      }
    },
    {
      "cell_type": "markdown",
      "source": [
        "### Count the entry data"
      ],
      "metadata": {
        "id": "mZNm3GWIMQ_c"
      }
    },
    {
      "cell_type": "code",
      "source": [
        "entry_data =  {\n",
        "    'features.shape ': features.shape,\n",
        "    'direction_action': direction_action.shape,\n",
        "    'other_action': other_action.shape\n",
        "}\n",
        "\n",
        "row_labels = ['total entry count','total elements in an entry']\n",
        "\n",
        "entry_df = pd.DataFrame(entry_data, index = row_labels)\n",
        "entry_df"
      ],
      "metadata": {
        "colab": {
          "base_uri": "https://localhost:8080/",
          "height": 112
        },
        "id": "AK2G8WE1SBOz",
        "outputId": "6b293148-7262-4344-cbc7-3f650e95db9b"
      },
      "execution_count": 31,
      "outputs": [
        {
          "output_type": "execute_result",
          "data": {
            "text/plain": [
              "                            features.shape   direction_action  other_action\n",
              "total entry count                        29                29            29\n",
              "total elements in an entry              115                 9             6"
            ],
            "text/html": [
              "\n",
              "  <div id=\"df-3eba0ae0-8c31-4cd8-944f-fbd19c245797\">\n",
              "    <div class=\"colab-df-container\">\n",
              "      <div>\n",
              "<style scoped>\n",
              "    .dataframe tbody tr th:only-of-type {\n",
              "        vertical-align: middle;\n",
              "    }\n",
              "\n",
              "    .dataframe tbody tr th {\n",
              "        vertical-align: top;\n",
              "    }\n",
              "\n",
              "    .dataframe thead th {\n",
              "        text-align: right;\n",
              "    }\n",
              "</style>\n",
              "<table border=\"1\" class=\"dataframe\">\n",
              "  <thead>\n",
              "    <tr style=\"text-align: right;\">\n",
              "      <th></th>\n",
              "      <th>features.shape</th>\n",
              "      <th>direction_action</th>\n",
              "      <th>other_action</th>\n",
              "    </tr>\n",
              "  </thead>\n",
              "  <tbody>\n",
              "    <tr>\n",
              "      <th>total entry count</th>\n",
              "      <td>29</td>\n",
              "      <td>29</td>\n",
              "      <td>29</td>\n",
              "    </tr>\n",
              "    <tr>\n",
              "      <th>total elements in an entry</th>\n",
              "      <td>115</td>\n",
              "      <td>9</td>\n",
              "      <td>6</td>\n",
              "    </tr>\n",
              "  </tbody>\n",
              "</table>\n",
              "</div>\n",
              "      <button class=\"colab-df-convert\" onclick=\"convertToInteractive('df-3eba0ae0-8c31-4cd8-944f-fbd19c245797')\"\n",
              "              title=\"Convert this dataframe to an interactive table.\"\n",
              "              style=\"display:none;\">\n",
              "        \n",
              "  <svg xmlns=\"http://www.w3.org/2000/svg\" height=\"24px\"viewBox=\"0 0 24 24\"\n",
              "       width=\"24px\">\n",
              "    <path d=\"M0 0h24v24H0V0z\" fill=\"none\"/>\n",
              "    <path d=\"M18.56 5.44l.94 2.06.94-2.06 2.06-.94-2.06-.94-.94-2.06-.94 2.06-2.06.94zm-11 1L8.5 8.5l.94-2.06 2.06-.94-2.06-.94L8.5 2.5l-.94 2.06-2.06.94zm10 10l.94 2.06.94-2.06 2.06-.94-2.06-.94-.94-2.06-.94 2.06-2.06.94z\"/><path d=\"M17.41 7.96l-1.37-1.37c-.4-.4-.92-.59-1.43-.59-.52 0-1.04.2-1.43.59L10.3 9.45l-7.72 7.72c-.78.78-.78 2.05 0 2.83L4 21.41c.39.39.9.59 1.41.59.51 0 1.02-.2 1.41-.59l7.78-7.78 2.81-2.81c.8-.78.8-2.07 0-2.86zM5.41 20L4 18.59l7.72-7.72 1.47 1.35L5.41 20z\"/>\n",
              "  </svg>\n",
              "      </button>\n",
              "      \n",
              "  <style>\n",
              "    .colab-df-container {\n",
              "      display:flex;\n",
              "      flex-wrap:wrap;\n",
              "      gap: 12px;\n",
              "    }\n",
              "\n",
              "    .colab-df-convert {\n",
              "      background-color: #E8F0FE;\n",
              "      border: none;\n",
              "      border-radius: 50%;\n",
              "      cursor: pointer;\n",
              "      display: none;\n",
              "      fill: #1967D2;\n",
              "      height: 32px;\n",
              "      padding: 0 0 0 0;\n",
              "      width: 32px;\n",
              "    }\n",
              "\n",
              "    .colab-df-convert:hover {\n",
              "      background-color: #E2EBFA;\n",
              "      box-shadow: 0px 1px 2px rgba(60, 64, 67, 0.3), 0px 1px 3px 1px rgba(60, 64, 67, 0.15);\n",
              "      fill: #174EA6;\n",
              "    }\n",
              "\n",
              "    [theme=dark] .colab-df-convert {\n",
              "      background-color: #3B4455;\n",
              "      fill: #D2E3FC;\n",
              "    }\n",
              "\n",
              "    [theme=dark] .colab-df-convert:hover {\n",
              "      background-color: #434B5C;\n",
              "      box-shadow: 0px 1px 3px 1px rgba(0, 0, 0, 0.15);\n",
              "      filter: drop-shadow(0px 1px 2px rgba(0, 0, 0, 0.3));\n",
              "      fill: #FFFFFF;\n",
              "    }\n",
              "  </style>\n",
              "\n",
              "      <script>\n",
              "        const buttonEl =\n",
              "          document.querySelector('#df-3eba0ae0-8c31-4cd8-944f-fbd19c245797 button.colab-df-convert');\n",
              "        buttonEl.style.display =\n",
              "          google.colab.kernel.accessAllowed ? 'block' : 'none';\n",
              "\n",
              "        async function convertToInteractive(key) {\n",
              "          const element = document.querySelector('#df-3eba0ae0-8c31-4cd8-944f-fbd19c245797');\n",
              "          const dataTable =\n",
              "            await google.colab.kernel.invokeFunction('convertToInteractive',\n",
              "                                                     [key], {});\n",
              "          if (!dataTable) return;\n",
              "\n",
              "          const docLinkHtml = 'Like what you see? Visit the ' +\n",
              "            '<a target=\"_blank\" href=https://colab.research.google.com/notebooks/data_table.ipynb>data table notebook</a>'\n",
              "            + ' to learn more about interactive tables.';\n",
              "          element.innerHTML = '';\n",
              "          dataTable['output_type'] = 'display_data';\n",
              "          await google.colab.output.renderOutput(dataTable, element);\n",
              "          const docLink = document.createElement('div');\n",
              "          docLink.innerHTML = docLinkHtml;\n",
              "          element.appendChild(docLink);\n",
              "        }\n",
              "      </script>\n",
              "    </div>\n",
              "  </div>\n",
              "  "
            ]
          },
          "metadata": {},
          "execution_count": 31
        }
      ]
    },
    {
      "cell_type": "markdown",
      "source": [
        "### Section each feature"
      ],
      "metadata": {
        "id": "YkkWy_wOMUKp"
      }
    },
    {
      "cell_type": "code",
      "source": [
        "# check the number of unique values in each feature\n",
        "Raycast_Platform_Distance = features[:,:16]\n",
        "Raycast_Platform_Type = features[:,16:32]\n",
        "Raycast_Projectile_Distance = features[:,32:48]\n",
        "Raycast_Projectile_OnTarget =features[:,48:64]\n",
        "Raycast_Projectile_Element = features[:,64:80]\n",
        "Action_Representation =features[:,80:98] \n",
        "Your_Positioning = features[:,98:100]\n",
        "Opponent_Positioning = features[:,100:102]\n",
        "Direction = features[:,102:104]\n",
        "Distance_To_Opponent = features[:,104:105]\n",
        "Angle_To_Opponent= features[:,105:107]\n",
        "Stocks = features[:,107:109]\n",
        "Percentage = features[:,109:111]\n",
        "Elemental_Gauge = features[:,111:113]\n",
        "Elemental_Advantage = features[:,113:114]\n",
        "Weight_Difference = features[:,114:115]\n",
        "  \n",
        "\n"
      ],
      "metadata": {
        "id": "WM3AhkQVIWV0"
      },
      "execution_count": null,
      "outputs": []
    },
    {
      "cell_type": "markdown",
      "source": [
        "### Check for categorical and continuous each Feature"
      ],
      "metadata": {
        "id": "q5o2VkCEMaLs"
      }
    },
    {
      "cell_type": "code",
      "source": [
        "features_list = [Raycast_Platform_Distance, Raycast_Platform_Type, Raycast_Projectile_Distance,\n",
        "                 Raycast_Projectile_OnTarget, Raycast_Projectile_Element, Action_Representation,\n",
        "                 Your_Positioning, Opponent_Positioning, Direction, Distance_To_Opponent,\n",
        "                 Angle_To_Opponent, Stocks, Percentage, Elemental_Gauge, Elemental_Advantage,\n",
        "                 Weight_Difference]\n",
        "\n",
        "\n",
        "feature_names = ['Raycast_Platform_Distance', 'Raycast_Platform_Type', 'Raycast_Projectile_Distance',\n",
        "                 'Raycast_Projectile_OnTarget', 'Raycast_Projectile_Element', 'Action_Representation',\n",
        "                 'Your_Positioning', 'Opponent_Positioning', 'Direction', 'Distance_To_Opponent',\n",
        "                 'Angle_To_Opponent', 'Stocks', 'Percentage', 'Elemental_Gauge', 'Elemental_Advantage',\n",
        "                 'Weight_Difference']\n",
        "\n",
        "for feature,feature_name in zip(features_list,feature_names):\n",
        "    unique_values = np.unique(feature)\n",
        "    num_unique_values = len(unique_values)\n",
        "    is_categorical = num_unique_values <= 4 # Adjust the threshold as per your data\n",
        "\n",
        "    if is_categorical:\n",
        "        print(feature_name, ' is categorical')\n",
        "    else:\n",
        "        print(feature_name, ' is continuous')\n",
        "\n"
      ],
      "metadata": {
        "colab": {
          "base_uri": "https://localhost:8080/"
        },
        "id": "D38-RVK3IOpC",
        "outputId": "f9b0a9ad-8fc9-475e-e36f-63775900c49c"
      },
      "execution_count": null,
      "outputs": [
        {
          "output_type": "stream",
          "name": "stdout",
          "text": [
            "Raycast_Platform_Distance  is continuous\n",
            "Raycast_Platform_Type  is categorical\n",
            "Raycast_Projectile_Distance  is categorical\n",
            "Raycast_Projectile_OnTarget  is categorical\n",
            "Raycast_Projectile_Element  is categorical\n",
            "Action_Representation  is categorical\n",
            "Your_Positioning  is continuous\n",
            "Opponent_Positioning  is categorical\n",
            "Direction  is categorical\n",
            "Distance_To_Opponent  is continuous\n",
            "Angle_To_Opponent  is continuous\n",
            "Stocks  is categorical\n",
            "Percentage  is categorical\n",
            "Elemental_Gauge  is continuous\n",
            "Elemental_Advantage  is categorical\n",
            "Weight_Difference  is categorical\n"
          ]
        }
      ]
    },
    {
      "cell_type": "markdown",
      "source": [
        "### Check for NaN in each Feature\n"
      ],
      "metadata": {
        "id": "_H_U85hqM1ZK"
      }
    },
    {
      "cell_type": "code",
      "source": [
        "features_list = [Raycast_Platform_Distance, Raycast_Platform_Type, Raycast_Projectile_Distance,\n",
        "                 Raycast_Projectile_OnTarget, Raycast_Projectile_Element, Action_Representation,\n",
        "                 Your_Positioning, Opponent_Positioning, Direction, Distance_To_Opponent,\n",
        "                 Angle_To_Opponent, Stocks, Percentage, Elemental_Gauge, Elemental_Advantage,\n",
        "                 Weight_Difference]\n",
        "\n",
        "\n",
        "nan_feature_list = []\n",
        "for feature in features_list:\n",
        "  if np.isnan(feature).any():\n",
        "      nan_feature_list.append(feature)\n",
        "\n",
        "if len(nan_feature_list) == 0:\n",
        "  print('There is no NAN in session 1 dataset')\n",
        "else:\n",
        "  print(nan_feature_list)"
      ],
      "metadata": {
        "colab": {
          "base_uri": "https://localhost:8080/"
        },
        "id": "qE49by5v4DCr",
        "outputId": "db05fa0e-afcc-409c-aa99-701338fd5817"
      },
      "execution_count": null,
      "outputs": [
        {
          "output_type": "stream",
          "name": "stdout",
          "text": [
            "There is no NAN in session 1 dataset\n"
          ]
        }
      ]
    },
    {
      "cell_type": "markdown",
      "source": [
        "# Session 1: Train the fighter to get back on the stage\n",
        "## Data Visualization & Data Analysis\n",
        "\n",
        "### Plot Boxplot for each feature to find outliers\n"
      ],
      "metadata": {
        "id": "K8nhAUCrj7X-"
      }
    },
    {
      "cell_type": "code",
      "source": [
        "features_list = [Raycast_Platform_Distance, Raycast_Platform_Type, Raycast_Projectile_Distance,\n",
        "                 Raycast_Projectile_OnTarget, Raycast_Projectile_Element, Action_Representation,\n",
        "                 Your_Positioning, Opponent_Positioning, Direction, Distance_To_Opponent,\n",
        "                 Angle_To_Opponent, Stocks, Percentage, Elemental_Gauge, Elemental_Advantage,\n",
        "                 Weight_Difference]\n",
        "\n",
        "feature_names = ['Raycast_Platform_Distance', 'Raycast_Platform_Type', 'Raycast_Projectile_Distance',\n",
        "                 'Raycast_Projectile_OnTarget', 'Raycast_Projectile_Element', 'Action_Representation',\n",
        "                 'Your_Positioning', 'Opponent_Positioning', 'Direction', 'Distance_To_Opponent',\n",
        "                 'Angle_To_Opponent', 'Stocks', 'Percentage', 'Elemental_Gauge', 'Elemental_Advantage',\n",
        "                 'Weight_Difference']\n",
        "\n",
        "# Preset the number of rows required\n",
        "num_cols = 4\n",
        "# Calculate the number of cols required\n",
        "num_rows = math.ceil(len(features_list) / num_cols)\n",
        "\n",
        "# Create subplots for each feature\n",
        "fig, axes = plt.subplots(nrows=num_rows, ncols=num_cols, figsize=(12, 3 * num_rows))\n",
        "\n",
        "# Flatten the axes array for easier indexing\n",
        "axes = axes.flatten()\n",
        "\n",
        "# Plot box plots for each feature\n",
        "for i, (feature, feature_name) in enumerate(zip(features_list,feature_names)):\n",
        "    sns.boxplot(x=feature, ax=axes[i])\n",
        "    axes[i].set_xlabel(f'Feature {i+1}')\n",
        "    axes[i].set_ylabel('')\n",
        "    axes[i].set_title(feature_name)\n",
        "\n",
        "# Remove empty subplots if the number of features is not a multiple of 4\n",
        "if len(features_list) % num_cols != 0:\n",
        "    for j in range(len(features_list) % num_cols, num_cols):\n",
        "        fig.delaxes(axes[-j-1])\n",
        "\n",
        "plt.tight_layout()\n",
        "plt.show()"
      ],
      "metadata": {
        "colab": {
          "base_uri": "https://localhost:8080/",
          "height": 739
        },
        "id": "bB5s5ByBeOjc",
        "outputId": "f0bba707-6046-4656-d867-604062694fe9"
      },
      "execution_count": null,
      "outputs": [
        {
          "output_type": "display_data",
          "data": {
            "text/plain": [
              "<Figure size 1200x1200 with 16 Axes>"
            ],
            "image/png": "[encoded data removed]"
          },
          "metadata": {}
        }
      ]
    },
    {
      "cell_type": "markdown",
      "source": [
        "As we can see that the feature 'Distance_To_Opponent' has outliners, so i will clear up the outliners in this feature later."
      ],
      "metadata": {
        "id": "ctgXFr8SkKHD"
      }
    },
    {
      "cell_type": "markdown",
      "source": [
        "### Apply Random Forest to present the importance score of each feature"
      ],
      "metadata": {
        "id": "jxsl3q8SNDa5"
      }
    },
    {
      "cell_type": "code",
      "source": [
        "from sklearn.ensemble import RandomForestClassifier\n",
        "\n",
        "feature_names = [\n",
        "    \"Raycast_Platform_Distance\",\n",
        "    \"Raycast_Platform_Type\",\n",
        "    \"Raycast_Projectile_Distance\",\n",
        "    \"Raycast_Projectile_OnTarget\",\n",
        "    \"Raycast_Projectile_Element\",\n",
        "    \"Action_Representation\",\n",
        "    \"Your_Positioning\",\n",
        "    \"Opponent_Positioning\",\n",
        "    \"Direction\",\n",
        "    \"Distance_To_Opponent\",\n",
        "    \"Angle_To_Opponent\",\n",
        "    \"Stocks\",\n",
        "    \"Percentage\",\n",
        "    \"Elemental_Gauge\",\n",
        "    \"Elemental_Advantage\",\n",
        "    \"Weight_Difference\"\n",
        "]\n",
        "\n",
        "all_features = np.concatenate((\n",
        "    Raycast_Platform_Distance,\n",
        "    Raycast_Platform_Type,\n",
        "    Raycast_Projectile_Distance,\n",
        "    Raycast_Projectile_OnTarget,\n",
        "    Raycast_Projectile_Element,\n",
        "    Action_Representation,\n",
        "    Your_Positioning,\n",
        "    Opponent_Positioning,\n",
        "    Direction,\n",
        "    Distance_To_Opponent,\n",
        "    Angle_To_Opponent,\n",
        "    Stocks,\n",
        "    Percentage,\n",
        "    Elemental_Gauge,\n",
        "    Elemental_Advantage,\n",
        "    Weight_Difference\n",
        "    \n",
        "), axis = 1)\n",
        "\n",
        "\n",
        "# y_train = np.concatenate((direction_action,other_action),axis = 1)\n",
        "y_train_1 = direction_action\n",
        "y_train_2 = other_action\n",
        "\n",
        "clf1 = RandomForestClassifier(n_estimators=100, random_state=42)\n",
        "clf1.fit(all_features, y_train_1)\n",
        "\n",
        "clf2 = RandomForestClassifier(n_estimators=100, random_state=42)\n",
        "clf2.fit(all_features, y_train_2)\n",
        "\n",
        "# Get the feature importances\n",
        "importances1 = clf1.feature_importances_\n",
        "importances2 = clf2.feature_importances_\n",
        "\n",
        "importance_tuples1 = list(zip(feature_names, importances1))\n",
        "sorted_importances1 = sorted(importance_tuples1, key=lambda x: x[1], reverse=True)\n",
        "\n",
        "importance_tuples2 = list(zip(feature_names, importances2))\n",
        "sorted_importances2 = sorted(importance_tuples2, key=lambda x: x[1], reverse=True)\n",
        "\n",
        "\n",
        "print(\"Importance related to direction_action\")\n",
        "for feature, importance in sorted_importances1:\n",
        "    print(f\"{feature}: {importance}\")\n",
        "\n",
        "print(\" \")\n",
        "print(\"Importance related to other_action\")\n",
        "for feature, importance in sorted_importances1:\n",
        "    print(f\"{feature}: {importance}\")"
      ],
      "metadata": {
        "colab": {
          "base_uri": "https://localhost:8080/"
        },
        "id": "OOH51tQ_dffc",
        "outputId": "38f2e7ae-2788-42fd-beff-c9b4f17cf7ec"
      },
      "execution_count": null,
      "outputs": [
        {
          "output_type": "stream",
          "name": "stdout",
          "text": [
            "Importance related to direction_action\n",
            "Stocks: 0.051545459116073895\n",
            "Raycast_Projectile_Element: 0.049231683680962895\n",
            "Action_Representation: 0.020734144576713277\n",
            "Raycast_Projectile_OnTarget: 0.013414155868144267\n",
            "Raycast_Projectile_Distance: 0.004414900567626917\n",
            "Your_Positioning: 0.004366534275239015\n",
            "Direction: 0.0042863107048536995\n",
            "Percentage: 0.0015582191780821892\n",
            "Distance_To_Opponent: 0.001351981351981352\n",
            "Angle_To_Opponent: 0.00040671810971080796\n",
            "Opponent_Positioning: 9.730287779067975e-05\n",
            "Raycast_Platform_Distance: 0.0\n",
            "Raycast_Platform_Type: 0.0\n",
            "Elemental_Gauge: 0.0\n",
            "Elemental_Advantage: 0.0\n",
            "Weight_Difference: 0.0\n",
            " \n",
            "Importance related to other_action\n",
            "Stocks: 0.051545459116073895\n",
            "Raycast_Projectile_Element: 0.049231683680962895\n",
            "Action_Representation: 0.020734144576713277\n",
            "Raycast_Projectile_OnTarget: 0.013414155868144267\n",
            "Raycast_Projectile_Distance: 0.004414900567626917\n",
            "Your_Positioning: 0.004366534275239015\n",
            "Direction: 0.0042863107048536995\n",
            "Percentage: 0.0015582191780821892\n",
            "Distance_To_Opponent: 0.001351981351981352\n",
            "Angle_To_Opponent: 0.00040671810971080796\n",
            "Opponent_Positioning: 9.730287779067975e-05\n",
            "Raycast_Platform_Distance: 0.0\n",
            "Raycast_Platform_Type: 0.0\n",
            "Elemental_Gauge: 0.0\n",
            "Elemental_Advantage: 0.0\n",
            "Weight_Difference: 0.0\n"
          ]
        }
      ]
    },
    {
      "cell_type": "markdown",
      "source": [
        "### Set Up Threshold to extract relevant features"
      ],
      "metadata": {
        "id": "D-wjHfv9NMv6"
      }
    },
    {
      "cell_type": "code",
      "source": [
        "# Extract relevant features for direction\n",
        "relevant_features = []\n",
        "threshold = 0.01\n",
        "for feature, importance in sorted_importances1:\n",
        "  if importance > threshold:\n",
        "    relevant_features.append(feature)\n",
        "\n",
        "print('Relevant_features of direction_action are: ', relevant_features)"
      ],
      "metadata": {
        "colab": {
          "base_uri": "https://localhost:8080/"
        },
        "id": "6ugsxvjpd9Qn",
        "outputId": "d4224f15-3fbc-499c-f5a5-8cf7bbcca2e6"
      },
      "execution_count": null,
      "outputs": [
        {
          "output_type": "stream",
          "name": "stdout",
          "text": [
            "Relevant_features of direction_action are:  ['Stocks', 'Raycast_Projectile_Element', 'Action_Representation', 'Raycast_Projectile_OnTarget']\n"
          ]
        }
      ]
    },
    {
      "cell_type": "code",
      "source": [
        "# Extract relevant features for other action\n",
        "relevant_features = []\n",
        "threshold = 0.01\n",
        "for feature, importance in sorted_importances2:\n",
        "  if importance > threshold:\n",
        "    relevant_features.append(feature)\n",
        "\n",
        "print('Relevant_features of other_action are: ', relevant_features)"
      ],
      "metadata": {
        "colab": {
          "base_uri": "https://localhost:8080/"
        },
        "id": "1q5nRA_7ckl_",
        "outputId": "9604983e-454d-4514-e7e6-93b5ba87240d"
      },
      "execution_count": null,
      "outputs": [
        {
          "output_type": "stream",
          "name": "stdout",
          "text": [
            "Relevant_features of other_action are:  ['Raycast_Projectile_OnTarget', 'Action_Representation', 'Raycast_Projectile_Distance', 'Stocks', 'Raycast_Projectile_Element']\n"
          ]
        }
      ]
    },
    {
      "cell_type": "markdown",
      "source": [
        "### Combine relevant features for Direction and Action\n",
        "\n",
        "1.   Raycast_Platform_Distance\n",
        "2.   Raycast_Platform_Type\n",
        "3.   Direction\n",
        "4.   Your_Positioning\n",
        "5.   Action_Representation\n",
        "6.   Distance_To_Opponent\n",
        "7.   Angle_To_Opponent\n",
        "8.   Stocks\n",
        "9.   Raycast_Projectile_Element\n",
        "10.  Raycast_Projectile_OnTarget\n",
        "11.  Raycast_Projectile_Distance"
      ],
      "metadata": {
        "id": "v4SwKCoKNhZ_"
      }
    },
    {
      "cell_type": "code",
      "source": [
        "features = np.array(features)\n",
        "direction_action = np.array(direction_action)\n",
        "other_action = np.array(other_action)\n",
        "\n",
        "all_features = np.concatenate((features, direction_action, other_action), axis=1)\n",
        "\n",
        "corr_matrix = np.corrcoef(all_features,rowvar=False)\n",
        "fig,ax = plt.subplots(figsize =(12,10))\n",
        "sns.heatmap(corr_matrix, annot=False, cmap ='coolwarm',ax=ax)\n",
        "\n",
        "# Customize the plot\n",
        "plt.title('Feature Correlation Heatmap - Session 1')\n",
        "plt.xticks(rotation=90)\n",
        "plt.yticks(rotation=0)\n",
        "\n",
        "# Display the plot\n",
        "plt.show()"
      ],
      "metadata": {
        "colab": {
          "base_uri": "https://localhost:8080/",
          "height": 755
        },
        "id": "eqQIZ6u0JLtq",
        "outputId": "e9125ac1-9f9c-4910-c643-a90cc6ba5696"
      },
      "execution_count": 32,
      "outputs": [
        {
          "output_type": "stream",
          "name": "stderr",
          "text": [
            "/usr/local/lib/python3.10/dist-packages/numpy/lib/function_base.py:2829: RuntimeWarning: invalid value encountered in true_divide\n",
            "  c /= stddev[:, None]\n",
            "/usr/local/lib/python3.10/dist-packages/numpy/lib/function_base.py:2830: RuntimeWarning: invalid value encountered in true_divide\n",
            "  c /= stddev[None, :]\n"
          ]
        },
        {
          "output_type": "display_data",
          "data": {
            "text/plain": [
              "<Figure size 1200x1000 with 2 Axes>"
            ],
            "image/png": "[encoded data removed]"
          },
          "metadata": {}
        }
      ]
    },
    {
      "cell_type": "code",
      "source": [
        "print(f'Unique value of Raycast_Projectile_Element, {np.unique(Raycast_Projectile_Element)}')\n",
        "print(f'Unique value of Raycast_Projectile_OnTarget, {np.unique(Raycast_Projectile_OnTarget)}')\n",
        "print(f'Unique value of Stocks, {np.unique(Stocks)}')\n",
        "print(f'Unique value of Raycast_Projectile_Distance, {np.unique(Raycast_Projectile_Distance)}')\n",
        "\n"
      ],
      "metadata": {
        "colab": {
          "base_uri": "https://localhost:8080/"
        },
        "id": "OZDWBULzTmbm",
        "outputId": "5adb02a5-f6d3-49a8-e17c-8a5ac1878cc0"
      },
      "execution_count": null,
      "outputs": [
        {
          "output_type": "stream",
          "name": "stdout",
          "text": [
            "Unique value of Raycast_Projectile_Element, [0.]\n",
            "Unique value of Raycast_Projectile_OnTarget, [0.]\n",
            "Unique value of Stocks, [1.]\n",
            "Unique value of Raycast_Projectile_Distance, [0.]\n"
          ]
        }
      ]
    },
    {
      "cell_type": "markdown",
      "source": [
        "From the random tree forest estimation and heatmap above, we can see that the relevant features you want to focus on would be \n",
        "    \n",
        "\n",
        "1.   Raycast_Platform_Distance\n",
        "2.   Raycast_Platform_Type\n",
        "3.   Direction\n",
        "4.   Your_Positioning\n",
        "5.   Action_Representation\n",
        "6.   Distance_To_Opponent\n",
        "7.   Angle_To_Opponent\n",
        "8.   Stocks\n",
        "9.   Raycast_Projectile_Element\n",
        "10.  Raycast_Projectile_OnTarget\n",
        "11.  Raycast_Projectile_Distance\n",
        "\n",
        "However, there are four features have only one unique value, and they are Raycast_Projectile_Element, Raycast_Projectile_OnTarget,Raycast_Projectile_Distance and Stocks. Random Forest identifies these features as relevant due to their potential impact on the model's output, assuming their values vary. In other words, the algorithm is saying that if there were non-zero values in these features, they would have a significant effect on the outcome. Thus, we will remove these four features from the relevant feature list\n"
      ],
      "metadata": {
        "id": "J2LvNnWHbMyl"
      }
    },
    {
      "cell_type": "code",
      "source": [
        "relevant_features = np.concatenate((\n",
        "    Raycast_Platform_Distance, \n",
        "    Raycast_Platform_Type,\n",
        "    Direction, \n",
        "    Your_Positioning, \n",
        "    Action_Representation, \n",
        "    Distance_To_Opponent, \n",
        "    Angle_To_Opponent,  \n",
        "), axis=1)\n",
        "\n",
        "# Compute the correlation matrix\n",
        "corr_matrix = np.corrcoef(relevant_features, rowvar=False)\n",
        "\n",
        "# Plot the heatmap\n",
        "plt.figure(figsize=(10, 8))\n",
        "sns.heatmap(corr_matrix, annot=False, cmap='coolwarm')\n",
        "plt.title('Correlation Heatmap - Relevant Features')\n",
        "plt.show()\n"
      ],
      "metadata": {
        "colab": {
          "base_uri": "https://localhost:8080/",
          "height": 719
        },
        "id": "d8mv5E4UNHH2",
        "outputId": "a29c1cd1-f3d6-4c48-b625-e2311cb4fc50"
      },
      "execution_count": 33,
      "outputs": [
        {
          "output_type": "display_data",
          "data": {
            "text/plain": [
              "<Figure size 1000x800 with 2 Axes>"
            ],
            "image/png": "[encoded data removed]"
          },
          "metadata": {}
        }
      ]
    },
    {
      "cell_type": "markdown",
      "source": [
        "### Visualize Raycast Platform Distance"
      ],
      "metadata": {
        "id": "JWVLrft5N_w3"
      }
    },
    {
      "cell_type": "code",
      "source": [
        "# Raycast_Platform_Distance\n",
        "raycast_platform_distance = features[:,:16]\n",
        "# creating a fig and axis, and set the fig size\n",
        "fig, ax = plt.subplots(figsize = (10,6))\n",
        "\n",
        "#creating a heatmap\n",
        "heatmap = ax.imshow(raycast_platform_distance, cmap ='viridis', aspect='auto')\n",
        "\n",
        "#adding colorbar\n",
        "cbar = plt.colorbar(heatmap)\n",
        "\n",
        "#adding labels and title\n",
        "ax.set_xticks(np.arange(0,16))\n",
        "ax.set_yticks(np.arange(0,29))\n",
        "\n",
        "ax.set_xlabel('Raycast Distance')\n",
        "ax.set_ylabel('Frames')\n",
        "ax.set_title('Raycast Platform Distance')\n",
        "\n",
        "plt.show()\n",
        "\n",
        "\n"
      ],
      "metadata": {
        "colab": {
          "base_uri": "https://localhost:8080/",
          "height": 519
        },
        "id": "Ndr8dKoIBkxY",
        "outputId": "af63e681-48fd-42db-b8c6-2bd47d62d18a"
      },
      "execution_count": null,
      "outputs": [
        {
          "output_type": "display_data",
          "data": {
            "text/plain": [
              "<Figure size 1000x600 with 2 Axes>"
            ],
            "image/png": "[encoded data removed]"
          },
          "metadata": {}
        }
      ]
    },
    {
      "cell_type": "code",
      "source": [
        "count = 0\n",
        "for i in range(29):\n",
        "  unique_values = np.unique(raycast_platform_distance[i,:])\n",
        "  if (unique_values == 0.).all():\n",
        "    count += 1\n",
        "\n",
        "print(f'There are {count} frames that have no ray intersecting with the fighter')"
      ],
      "metadata": {
        "colab": {
          "base_uri": "https://localhost:8080/"
        },
        "id": "oTY6dzsjJ8Ze",
        "outputId": "618c420c-55f8-4443-fed5-1a513e49c3e3"
      },
      "execution_count": null,
      "outputs": [
        {
          "output_type": "stream",
          "name": "stdout",
          "text": [
            "There are 9 frames that have no ray intersecting with the fighter\n"
          ]
        }
      ]
    },
    {
      "cell_type": "markdown",
      "source": [
        "### Visualize raycast_platform_distance"
      ],
      "metadata": {
        "id": "0u6CnjUJ-NXb"
      }
    },
    {
      "cell_type": "code",
      "source": [
        "# raycast_platform_type\n",
        "raycast_platform_type = features[:, 16:32]\n",
        "platform_type = [-1, 0.5, 1, 1.5] # Hard Platform and Wall: 1,  Soft Platform: 0.5, Ledge: 1.5\n",
        "platform_type_count = [np.sum(raycast_platform_type == t) for t in platform_type]\n",
        "\n",
        "\n",
        "bar_color = ['red' if t<0 else 'blue' for t in platform_type]\n",
        "bar_width = 0.4\n",
        "plt.bar(platform_type, platform_type_count, color = bar_color, width = bar_width)\n",
        "plt.xlabel('left: -1 to 0; Platform Type; right: 0 to 1.5')\n",
        "plt.ylabel('Frequency')\n",
        "plt.title('Platform Type vs Frequency')\n",
        "plt.show()"
      ],
      "metadata": {
        "colab": {
          "base_uri": "https://localhost:8080/",
          "height": 472
        },
        "id": "y4cdwSKHiYYr",
        "outputId": "117a1093-3a44-4b48-812b-17ed2b5ee54f"
      },
      "execution_count": null,
      "outputs": [
        {
          "output_type": "display_data",
          "data": {
            "text/plain": [
              "<Figure size 640x480 with 1 Axes>"
            ],
            "image/png": "[encoded data removed]"
          },
          "metadata": {}
        }
      ]
    },
    {
      "cell_type": "markdown",
      "source": [
        "From the barplot above, we can see that the majority frequency happens at the value of \"-1\", which indicates that the fighter might be off the stage or far from any platforms like soft, hard or ledge. "
      ],
      "metadata": {
        "id": "5AOUQhCIoPRp"
      }
    },
    {
      "cell_type": "markdown",
      "source": [
        "### Visualize Position Type\n"
      ],
      "metadata": {
        "id": "WXT83pX2ONq3"
      }
    },
    {
      "cell_type": "code",
      "source": [
        "position_type = [-1,1]\n",
        "Your_Positioning  =  features[:,98:100]\n",
        "left_top = np.sum((Your_Positioning[:, 0] < 0) & (Your_Positioning[:, 1] < 0))\n",
        "left_bottom = np.sum((Your_Positioning[:, 0] < 0) & (Your_Positioning[:, 1] > 0))\n",
        "right_top = np.sum((Your_Positioning[:, 0] > 0) & (Your_Positioning[:, 1] < 0))\n",
        "right_bottom = np.sum((Your_Positioning[:, 0] > 0) & (Your_Positioning[:, 1] > 0))\n",
        "\n",
        "categories = ['Top Left', 'Bottom Left ', 'Top Right', 'Bottom Right']\n",
        "bar_colors = ['red', 'blue', 'green', 'orange']\n",
        "bar_width = 0.4\n",
        "plt.bar(categories, [left_top, left_bottom, right_top, right_bottom], color = bar_colors, width = bar_width)\n",
        "plt.xlabel('Position type')\n",
        "plt.ylabel('Frequency')\n",
        "plt.title('Position Type vs Frequency')\n",
        "plt.show()\n",
        "\n"
      ],
      "metadata": {
        "colab": {
          "base_uri": "https://localhost:8080/",
          "height": 472
        },
        "id": "ucTbv4W9oetQ",
        "outputId": "aacaf06e-8997-468e-d1a4-876a92c2181e"
      },
      "execution_count": null,
      "outputs": [
        {
          "output_type": "display_data",
          "data": {
            "text/plain": [
              "<Figure size 640x480 with 1 Axes>"
            ],
            "image/png": "[encoded data removed]"
          },
          "metadata": {}
        }
      ]
    },
    {
      "cell_type": "markdown",
      "source": [
        "Based on the plot above, we can observe that the majority of the data points are concentrated in the top-left and bottom-left positions. There are relatively few data points collected at the bottom-right position, and an insignificant amount of data collected at the top-right position. Thus, we run into an issue of data imbalance. To address this issue, we can generate synethic data for the right hand side by using methods below."
      ],
      "metadata": {
        "id": "CEy-qw7RoFC-"
      }
    },
    {
      "cell_type": "markdown",
      "source": [
        "# Data Preprocessing\n",
        "\n",
        "##### Step 1: Boostrap data size of some important features such as raycast_platform_type, etc"
      ],
      "metadata": {
        "id": "N6kHPvONbWNR"
      }
    },
    {
      "cell_type": "code",
      "source": [
        "# def bootstrap_features(relevant_features_dict, num_sample, direction_action, other_action):\n",
        "#     direct_action = np.array(direction_action)\n",
        "#     other_act = np.array(other_action)\n",
        "#     bootstrapped_feature = {}\n",
        "#     relevant_features_augmented = {}\n",
        "\n",
        "#     Your_Positioning = relevant_features_dict['Your_Positioning']\n",
        "#     indices_left_top = np.where((Your_Positioning[:, 0] < 0) & (Your_Positioning[:, 1] < 0))\n",
        "#     indices_left_bottom = np.where((Your_Positioning[:, 0] < 0) & (Your_Positioning[:, 1] > 0))\n",
        "#     indices_right_top = np.where((Your_Positioning[:, 0] > 0) & (Your_Positioning[:, 1] < 0))\n",
        "#     indices_right_bottom = np.where((Your_Positioning[:, 0] > 0) & (Your_Positioning[:, 1] > 0))\n",
        "\n",
        "#     direction_actions_right_bottom = direct_action[indices_right_bottom]\n",
        "#     other_action_right_bottom = other_act[indices_right_bottom]\n",
        "\n",
        "#     for feature_name, relevant_fea in relevant_features_dict.items():\n",
        "#         subset_right_bottom = relevant_fea[indices_right_bottom]\n",
        "        \n",
        "#         # Bootstrap the subset\n",
        "#         bootstrapped_feature[feature_name] = resample(subset_right_bottom, replace=True, n_samples=num_sample)\n",
        "#         relevant_features_augmented[feature_name] = np.concatenate([relevant_fea, bootstrapped_feature[feature_name]])\n",
        "\n",
        "#     # Bootstrap the actions\n",
        "#     bootstrapped_actions = resample(other_action_right_bottom, replace=True, n_samples=num_sample)\n",
        "#     bootstrapped_directions = resample(direction_actions_right_bottom, replace=True, n_samples=num_sample)\n",
        "\n",
        "#     # Combine the bootstrapped actions with the original actions\n",
        "#     other_actions_augmented = np.concatenate([other_act, bootstrapped_actions])\n",
        "#     direction_actions_augmented = np.concatenate([direct_action, bootstrapped_directions])\n",
        "\n",
        "#     return relevant_features_augmented, other_actions_augmented, direction_actions_augmented\n"
      ],
      "metadata": {
        "id": "a1pjD9XU0Jon"
      },
      "execution_count": null,
      "outputs": []
    },
    {
      "cell_type": "code",
      "source": [
        "def bootstrap_features(relevant_features_dict, num_sample, direction_action, other_action):\n",
        "    direct_action = np.array(direction_action)\n",
        "    other_act = np.array(other_action)\n",
        "    bootstrapped_feature = {}\n",
        "    relevant_features_augmented = {}\n",
        "\n",
        "    Your_Positioning = relevant_features_dict['Your_Positioning']\n",
        "    indices_left_top = np.where((Your_Positioning[:, 0] < 0) & (Your_Positioning[:, 1] < 0))\n",
        "    indices_left_bottom = np.where((Your_Positioning[:, 0] < 0) & (Your_Positioning[:, 1] > 0))\n",
        "    indices_right_top = np.where((Your_Positioning[:, 0] > 0) & (Your_Positioning[:, 1] < 0))\n",
        "    indices_right_bottom = np.where((Your_Positioning[:, 0] > 0) & (Your_Positioning[:, 1] > 0))\n",
        "\n",
        "    indices_majority = [indices_left_top, indices_left_bottom]\n",
        "    indices_minority = indices_right_bottom\n",
        "\n",
        "    direction_actions_minority = direct_action[indices_minority]\n",
        "    other_action_minority = other_act[indices_minority]\n",
        "\n",
        "    # Undersample the majority classes\n",
        "    for feature_name, relevant_fea in relevant_features_dict.items():\n",
        "        bootstrapped_feature[feature_name] = np.concatenate([relevant_fea[ind] for ind in indices_majority], axis=0)\n",
        "        bootstrapped_feature[feature_name] = resample(bootstrapped_feature[feature_name], replace=False, n_samples=num_sample, random_state=0)\n",
        "        relevant_features_augmented[feature_name] = np.concatenate([relevant_fea, bootstrapped_feature[feature_name]])\n",
        "\n",
        "    # Oversample the minority class\n",
        "    for feature_name, relevant_fea in relevant_features_dict.items():\n",
        "        subset_minority = relevant_fea[indices_minority]\n",
        "        bootstrapped_feature[feature_name] = resample(subset_minority, replace=True, n_samples=num_sample)\n",
        "        relevant_features_augmented[feature_name] = np.concatenate([relevant_fea, bootstrapped_feature[feature_name]])\n",
        "\n",
        "    # Bootstrap the actions\n",
        "    bootstrapped_actions = resample(other_action_minority, replace=True, n_samples=num_sample)\n",
        "    bootstrapped_directions = resample(direction_actions_minority, replace=True, n_samples=num_sample)\n",
        "\n",
        "    # Combine the bootstrapped actions with the original actions\n",
        "    other_actions_augmented = np.concatenate([other_act, bootstrapped_actions])\n",
        "    direction_actions_augmented = np.concatenate([direct_action, bootstrapped_directions])\n",
        "\n",
        "    return relevant_features_augmented, other_actions_augmented, direction_actions_augmented\n"
      ],
      "metadata": {
        "id": "S8pz958YOxL5"
      },
      "execution_count": null,
      "outputs": []
    },
    {
      "cell_type": "markdown",
      "source": [
        "### Perform Bootstrapping on all relevant features along with Direction and Action"
      ],
      "metadata": {
        "id": "k8AtQ1KBt7RV"
      }
    },
    {
      "cell_type": "code",
      "source": [
        "import random\n",
        "\n",
        "relevant_features_dict = {\n",
        "    \"Raycast_Platform_Distance\": Raycast_Platform_Distance,\n",
        "    \"Raycast_Platform_Type\": Raycast_Platform_Type,\n",
        "    \"Direction\": Direction,\n",
        "    \"Your_Positioning\": Your_Positioning,\n",
        "    \"Action_Representation\": Action_Representation,\n",
        "    \"Distance_To_Opponent\": Distance_To_Opponent,\n",
        "    \"Angle_To_Opponent\": Angle_To_Opponent,\n",
        "\n",
        "}\n",
        "\n",
        "num_sample = 10\n",
        "augmented_rel_features, augmented_other_action, augmented_directions = bootstrap_features(relevant_features_dict, num_sample, direction_action, other_action)\n",
        "Your_Positioning_augmented = augmented_rel_features['Your_Positioning']\n",
        "\n",
        "\n"
      ],
      "metadata": {
        "id": "mMxrXJhehjre"
      },
      "execution_count": null,
      "outputs": []
    },
    {
      "cell_type": "markdown",
      "source": [
        "### Visualize the position type"
      ],
      "metadata": {
        "id": "zTAsffl2O9ug"
      }
    },
    {
      "cell_type": "code",
      "source": [
        "position_type = [-1,1]\n",
        "left_top = np.sum((Your_Positioning_augmented[:, 0] < 0) & (Your_Positioning_augmented[:, 1] < 0))\n",
        "left_bottom = np.sum((Your_Positioning_augmented[:, 0] < 0) & (Your_Positioning_augmented[:, 1] > 0))\n",
        "right_top = np.sum((Your_Positioning_augmented[:, 0] > 0) & (Your_Positioning_augmented[:, 1] < 0))\n",
        "right_bottom = np.sum((Your_Positioning_augmented[:, 0] > 0) & (Your_Positioning_augmented[:, 1] > 0))\n",
        "\n",
        "categories = ['Top Left', 'Bottom Left ', 'Top Right', 'Bottom Right']\n",
        "bar_colors = ['red', 'blue', 'green', 'orange']\n",
        "bar_width = 0.4\n",
        "plt.bar(categories, [left_top, left_bottom, right_top, right_bottom], color = bar_colors, width = bar_width)\n",
        "plt.xlabel('Position type')\n",
        "plt.ylabel('Frequency')\n",
        "plt.title('Position Type vs Frequency')\n",
        "plt.show()\n",
        "\n"
      ],
      "metadata": {
        "colab": {
          "base_uri": "https://localhost:8080/",
          "height": 472
        },
        "id": "ZBApFropvK6N",
        "outputId": "9eaf296e-ea7b-4c51-9b99-d16cbc4b7d6b"
      },
      "execution_count": null,
      "outputs": [
        {
          "output_type": "display_data",
          "data": {
            "text/plain": [
              "<Figure size 640x480 with 1 Axes>"
            ],
            "image/png": "[encoded data removed]"
          },
          "metadata": {}
        }
      ]
    },
    {
      "cell_type": "markdown",
      "source": [
        "From the barplot above, we can see that after bootstrapping, the data size expanded at the Bottom Right position"
      ],
      "metadata": {
        "id": "o50-YyX7uIQu"
      }
    },
    {
      "cell_type": "code",
      "source": [
        "#initialize concat dataframe\n",
        "concat_input_df = pd.DataFrame()\n",
        "print(f'The length of augmented_rel_features should be {len(augmented_rel_features)}' )\n",
        "\n",
        "for feature_name, feature_type in augmented_rel_features.items():\n",
        "    input_df = pd.DataFrame(feature_type, columns=[f'feature{i+1}' for i in range(feature_type.shape[1])])\n",
        "    concat_input_df = pd.concat([concat_input_df, input_df], axis = 1)\n",
        "\n",
        "concat_input_df.head(10)"
      ],
      "metadata": {
        "colab": {
          "base_uri": "https://localhost:8080/",
          "height": 473
        },
        "id": "t6y85Iq8zJO-",
        "outputId": "ab5a5aa5-64a8-452f-bc70-7647d8a08198"
      },
      "execution_count": null,
      "outputs": [
        {
          "output_type": "stream",
          "name": "stdout",
          "text": [
            "The length of augmented_rel_features should be 7\n"
          ]
        },
        {
          "output_type": "execute_result",
          "data": {
            "text/plain": [
              "   feature1  feature2  feature3  feature4  feature5  feature6  feature7  \\\n",
              "0       0.0  0.000000  0.000000  0.000000  0.000000  0.000000  0.000000   \n",
              "1       0.0  0.000000  0.000000  0.916612  0.927959  0.000000  0.000000   \n",
              "2       0.0  0.000000  0.000000  0.000000  0.000000  0.000000  0.000000   \n",
              "3       0.0  0.000000  0.000000  0.000000  0.000000  0.934988  0.964816   \n",
              "4       0.0  0.000000  0.000000  0.826934  0.000000  0.000000  0.000000   \n",
              "5       0.0  0.000000  0.923750  0.948037  0.000000  0.000000  0.000000   \n",
              "6       0.0  0.000000  0.933367  0.958747  0.000000  0.000000  0.000000   \n",
              "7       0.0  0.971118  0.962264  0.888243  0.000000  0.995498  0.997563   \n",
              "8       0.0  0.000000  0.000000  0.000000  0.788842  0.884369  0.000000   \n",
              "9       0.0  0.000000  0.000000  0.000000  0.000000  0.000000  0.000000   \n",
              "\n",
              "   feature8  feature9  feature10  ...  feature12  feature13  feature14  \\\n",
              "0  0.000000  0.000000   0.000000  ...        0.0        0.0        0.0   \n",
              "1  0.000000  0.000000   0.000000  ...        0.0        0.0        0.0   \n",
              "2  0.000000  0.000000   0.000000  ...        0.0        0.0        0.0   \n",
              "3  0.968972  0.000000   0.000000  ...        0.0        0.0        0.0   \n",
              "4  0.000000  0.000000   0.000000  ...        0.0        0.0        0.0   \n",
              "5  0.000000  0.000000   0.000000  ...        0.0        0.0        0.0   \n",
              "6  0.000000  0.000000   0.000000  ...        0.0        0.0        0.0   \n",
              "7  0.998135  0.998277   0.998135  ...        0.0        0.0        0.0   \n",
              "8  0.000000  0.000000   0.000000  ...        0.0        0.0        0.0   \n",
              "9  0.000000  0.000000   0.000000  ...        0.0        0.0        0.0   \n",
              "\n",
              "   feature15  feature16  feature17  feature18  feature1  feature1  feature2  \n",
              "0        0.0        0.0        1.0        0.0  0.388070 -0.988127 -0.153640  \n",
              "1        0.0        0.0        1.0        0.0  0.363666 -0.965025 -0.262156  \n",
              "2        0.0        0.0        1.0        0.0  0.347361 -0.973696 -0.227852  \n",
              "3        0.0        0.0        1.0        0.0  0.272081 -0.993699 -0.112084  \n",
              "4        0.0        0.0        1.0        0.0  0.354761 -0.916960 -0.398980  \n",
              "5        0.0        0.0        1.0        0.0  0.351934 -0.903989 -0.427555  \n",
              "6        0.0        0.0        1.0        0.0  0.333717 -0.915473 -0.402379  \n",
              "7        0.0        0.0        1.0        0.0  0.263731 -0.945821 -0.324687  \n",
              "8        0.0        0.0        1.0        0.0  0.394271 -0.999214  0.039630  \n",
              "9        0.0        0.0        1.0        0.0  0.397575 -0.994467 -0.105051  \n",
              "\n",
              "[10 rows x 57 columns]"
            ],
            "text/html": [
              "\n",
              "  <div id=\"df-da4f9406-d890-48e7-8e26-0b8f38d56c90\">\n",
              "    <div class=\"colab-df-container\">\n",
              "      <div>\n",
              "<style scoped>\n",
              "    .dataframe tbody tr th:only-of-type {\n",
              "        vertical-align: middle;\n",
              "    }\n",
              "\n",
              "    .dataframe tbody tr th {\n",
              "        vertical-align: top;\n",
              "    }\n",
              "\n",
              "    .dataframe thead th {\n",
              "        text-align: right;\n",
              "    }\n",
              "</style>\n",
              "<table border=\"1\" class=\"dataframe\">\n",
              "  <thead>\n",
              "    <tr style=\"text-align: right;\">\n",
              "      <th></th>\n",
              "      <th>feature1</th>\n",
              "      <th>feature2</th>\n",
              "      <th>feature3</th>\n",
              "      <th>feature4</th>\n",
              "      <th>feature5</th>\n",
              "      <th>feature6</th>\n",
              "      <th>feature7</th>\n",
              "      <th>feature8</th>\n",
              "      <th>feature9</th>\n",
              "      <th>feature10</th>\n",
              "      <th>...</th>\n",
              "      <th>feature12</th>\n",
              "      <th>feature13</th>\n",
              "      <th>feature14</th>\n",
              "      <th>feature15</th>\n",
              "      <th>feature16</th>\n",
              "      <th>feature17</th>\n",
              "      <th>feature18</th>\n",
              "      <th>feature1</th>\n",
              "      <th>feature1</th>\n",
              "      <th>feature2</th>\n",
              "    </tr>\n",
              "  </thead>\n",
              "  <tbody>\n",
              "    <tr>\n",
              "      <th>0</th>\n",
              "      <td>0.0</td>\n",
              "      <td>0.000000</td>\n",
              "      <td>0.000000</td>\n",
              "      <td>0.000000</td>\n",
              "      <td>0.000000</td>\n",
              "      <td>0.000000</td>\n",
              "      <td>0.000000</td>\n",
              "      <td>0.000000</td>\n",
              "      <td>0.000000</td>\n",
              "      <td>0.000000</td>\n",
              "      <td>...</td>\n",
              "      <td>0.0</td>\n",
              "      <td>0.0</td>\n",
              "      <td>0.0</td>\n",
              "      <td>0.0</td>\n",
              "      <td>0.0</td>\n",
              "      <td>1.0</td>\n",
              "      <td>0.0</td>\n",
              "      <td>0.388070</td>\n",
              "      <td>-0.988127</td>\n",
              "      <td>-0.153640</td>\n",
              "    </tr>\n",
              "    <tr>\n",
              "      <th>1</th>\n",
              "      <td>0.0</td>\n",
              "      <td>0.000000</td>\n",
              "      <td>0.000000</td>\n",
              "      <td>0.916612</td>\n",
              "      <td>0.927959</td>\n",
              "      <td>0.000000</td>\n",
              "      <td>0.000000</td>\n",
              "      <td>0.000000</td>\n",
              "      <td>0.000000</td>\n",
              "      <td>0.000000</td>\n",
              "      <td>...</td>\n",
              "      <td>0.0</td>\n",
              "      <td>0.0</td>\n",
              "      <td>0.0</td>\n",
              "      <td>0.0</td>\n",
              "      <td>0.0</td>\n",
              "      <td>1.0</td>\n",
              "      <td>0.0</td>\n",
              "      <td>0.363666</td>\n",
              "      <td>-0.965025</td>\n",
              "      <td>-0.262156</td>\n",
              "    </tr>\n",
              "    <tr>\n",
              "      <th>2</th>\n",
              "      <td>0.0</td>\n",
              "      <td>0.000000</td>\n",
              "      <td>0.000000</td>\n",
              "      <td>0.000000</td>\n",
              "      <td>0.000000</td>\n",
              "      <td>0.000000</td>\n",
              "      <td>0.000000</td>\n",
              "      <td>0.000000</td>\n",
              "      <td>0.000000</td>\n",
              "      <td>0.000000</td>\n",
              "      <td>...</td>\n",
              "      <td>0.0</td>\n",
              "      <td>0.0</td>\n",
              "      <td>0.0</td>\n",
              "      <td>0.0</td>\n",
              "      <td>0.0</td>\n",
              "      <td>1.0</td>\n",
              "      <td>0.0</td>\n",
              "      <td>0.347361</td>\n",
              "      <td>-0.973696</td>\n",
              "      <td>-0.227852</td>\n",
              "    </tr>\n",
              "    <tr>\n",
              "      <th>3</th>\n",
              "      <td>0.0</td>\n",
              "      <td>0.000000</td>\n",
              "      <td>0.000000</td>\n",
              "      <td>0.000000</td>\n",
              "      <td>0.000000</td>\n",
              "      <td>0.934988</td>\n",
              "      <td>0.964816</td>\n",
              "      <td>0.968972</td>\n",
              "      <td>0.000000</td>\n",
              "      <td>0.000000</td>\n",
              "      <td>...</td>\n",
              "      <td>0.0</td>\n",
              "      <td>0.0</td>\n",
              "      <td>0.0</td>\n",
              "      <td>0.0</td>\n",
              "      <td>0.0</td>\n",
              "      <td>1.0</td>\n",
              "      <td>0.0</td>\n",
              "      <td>0.272081</td>\n",
              "      <td>-0.993699</td>\n",
              "      <td>-0.112084</td>\n",
              "    </tr>\n",
              "    <tr>\n",
              "      <th>4</th>\n",
              "      <td>0.0</td>\n",
              "      <td>0.000000</td>\n",
              "      <td>0.000000</td>\n",
              "      <td>0.826934</td>\n",
              "      <td>0.000000</td>\n",
              "      <td>0.000000</td>\n",
              "      <td>0.000000</td>\n",
              "      <td>0.000000</td>\n",
              "      <td>0.000000</td>\n",
              "      <td>0.000000</td>\n",
              "      <td>...</td>\n",
              "      <td>0.0</td>\n",
              "      <td>0.0</td>\n",
              "      <td>0.0</td>\n",
              "      <td>0.0</td>\n",
              "      <td>0.0</td>\n",
              "      <td>1.0</td>\n",
              "      <td>0.0</td>\n",
              "      <td>0.354761</td>\n",
              "      <td>-0.916960</td>\n",
              "      <td>-0.398980</td>\n",
              "    </tr>\n",
              "    <tr>\n",
              "      <th>5</th>\n",
              "      <td>0.0</td>\n",
              "      <td>0.000000</td>\n",
              "      <td>0.923750</td>\n",
              "      <td>0.948037</td>\n",
              "      <td>0.000000</td>\n",
              "      <td>0.000000</td>\n",
              "      <td>0.000000</td>\n",
              "      <td>0.000000</td>\n",
              "      <td>0.000000</td>\n",
              "      <td>0.000000</td>\n",
              "      <td>...</td>\n",
              "      <td>0.0</td>\n",
              "      <td>0.0</td>\n",
              "      <td>0.0</td>\n",
              "      <td>0.0</td>\n",
              "      <td>0.0</td>\n",
              "      <td>1.0</td>\n",
              "      <td>0.0</td>\n",
              "      <td>0.351934</td>\n",
              "      <td>-0.903989</td>\n",
              "      <td>-0.427555</td>\n",
              "    </tr>\n",
              "    <tr>\n",
              "      <th>6</th>\n",
              "      <td>0.0</td>\n",
              "      <td>0.000000</td>\n",
              "      <td>0.933367</td>\n",
              "      <td>0.958747</td>\n",
              "      <td>0.000000</td>\n",
              "      <td>0.000000</td>\n",
              "      <td>0.000000</td>\n",
              "      <td>0.000000</td>\n",
              "      <td>0.000000</td>\n",
              "      <td>0.000000</td>\n",
              "      <td>...</td>\n",
              "      <td>0.0</td>\n",
              "      <td>0.0</td>\n",
              "      <td>0.0</td>\n",
              "      <td>0.0</td>\n",
              "      <td>0.0</td>\n",
              "      <td>1.0</td>\n",
              "      <td>0.0</td>\n",
              "      <td>0.333717</td>\n",
              "      <td>-0.915473</td>\n",
              "      <td>-0.402379</td>\n",
              "    </tr>\n",
              "    <tr>\n",
              "      <th>7</th>\n",
              "      <td>0.0</td>\n",
              "      <td>0.971118</td>\n",
              "      <td>0.962264</td>\n",
              "      <td>0.888243</td>\n",
              "      <td>0.000000</td>\n",
              "      <td>0.995498</td>\n",
              "      <td>0.997563</td>\n",
              "      <td>0.998135</td>\n",
              "      <td>0.998277</td>\n",
              "      <td>0.998135</td>\n",
              "      <td>...</td>\n",
              "      <td>0.0</td>\n",
              "      <td>0.0</td>\n",
              "      <td>0.0</td>\n",
              "      <td>0.0</td>\n",
              "      <td>0.0</td>\n",
              "      <td>1.0</td>\n",
              "      <td>0.0</td>\n",
              "      <td>0.263731</td>\n",
              "      <td>-0.945821</td>\n",
              "      <td>-0.324687</td>\n",
              "    </tr>\n",
              "    <tr>\n",
              "      <th>8</th>\n",
              "      <td>0.0</td>\n",
              "      <td>0.000000</td>\n",
              "      <td>0.000000</td>\n",
              "      <td>0.000000</td>\n",
              "      <td>0.788842</td>\n",
              "      <td>0.884369</td>\n",
              "      <td>0.000000</td>\n",
              "      <td>0.000000</td>\n",
              "      <td>0.000000</td>\n",
              "      <td>0.000000</td>\n",
              "      <td>...</td>\n",
              "      <td>0.0</td>\n",
              "      <td>0.0</td>\n",
              "      <td>0.0</td>\n",
              "      <td>0.0</td>\n",
              "      <td>0.0</td>\n",
              "      <td>1.0</td>\n",
              "      <td>0.0</td>\n",
              "      <td>0.394271</td>\n",
              "      <td>-0.999214</td>\n",
              "      <td>0.039630</td>\n",
              "    </tr>\n",
              "    <tr>\n",
              "      <th>9</th>\n",
              "      <td>0.0</td>\n",
              "      <td>0.000000</td>\n",
              "      <td>0.000000</td>\n",
              "      <td>0.000000</td>\n",
              "      <td>0.000000</td>\n",
              "      <td>0.000000</td>\n",
              "      <td>0.000000</td>\n",
              "      <td>0.000000</td>\n",
              "      <td>0.000000</td>\n",
              "      <td>0.000000</td>\n",
              "      <td>...</td>\n",
              "      <td>0.0</td>\n",
              "      <td>0.0</td>\n",
              "      <td>0.0</td>\n",
              "      <td>0.0</td>\n",
              "      <td>0.0</td>\n",
              "      <td>1.0</td>\n",
              "      <td>0.0</td>\n",
              "      <td>0.397575</td>\n",
              "      <td>-0.994467</td>\n",
              "      <td>-0.105051</td>\n",
              "    </tr>\n",
              "  </tbody>\n",
              "</table>\n",
              "<p>10 rows × 57 columns</p>\n",
              "</div>\n",
              "      <button class=\"colab-df-convert\" onclick=\"convertToInteractive('df-da4f9406-d890-48e7-8e26-0b8f38d56c90')\"\n",
              "              title=\"Convert this dataframe to an interactive table.\"\n",
              "              style=\"display:none;\">\n",
              "        \n",
              "  <svg xmlns=\"http://www.w3.org/2000/svg\" height=\"24px\"viewBox=\"0 0 24 24\"\n",
              "       width=\"24px\">\n",
              "    <path d=\"M0 0h24v24H0V0z\" fill=\"none\"/>\n",
              "    <path d=\"M18.56 5.44l.94 2.06.94-2.06 2.06-.94-2.06-.94-.94-2.06-.94 2.06-2.06.94zm-11 1L8.5 8.5l.94-2.06 2.06-.94-2.06-.94L8.5 2.5l-.94 2.06-2.06.94zm10 10l.94 2.06.94-2.06 2.06-.94-2.06-.94-.94-2.06-.94 2.06-2.06.94z\"/><path d=\"M17.41 7.96l-1.37-1.37c-.4-.4-.92-.59-1.43-.59-.52 0-1.04.2-1.43.59L10.3 9.45l-7.72 7.72c-.78.78-.78 2.05 0 2.83L4 21.41c.39.39.9.59 1.41.59.51 0 1.02-.2 1.41-.59l7.78-7.78 2.81-2.81c.8-.78.8-2.07 0-2.86zM5.41 20L4 18.59l7.72-7.72 1.47 1.35L5.41 20z\"/>\n",
              "  </svg>\n",
              "      </button>\n",
              "      \n",
              "  <style>\n",
              "    .colab-df-container {\n",
              "      display:flex;\n",
              "      flex-wrap:wrap;\n",
              "      gap: 12px;\n",
              "    }\n",
              "\n",
              "    .colab-df-convert {\n",
              "      background-color: #E8F0FE;\n",
              "      border: none;\n",
              "      border-radius: 50%;\n",
              "      cursor: pointer;\n",
              "      display: none;\n",
              "      fill: #1967D2;\n",
              "      height: 32px;\n",
              "      padding: 0 0 0 0;\n",
              "      width: 32px;\n",
              "    }\n",
              "\n",
              "    .colab-df-convert:hover {\n",
              "      background-color: #E2EBFA;\n",
              "      box-shadow: 0px 1px 2px rgba(60, 64, 67, 0.3), 0px 1px 3px 1px rgba(60, 64, 67, 0.15);\n",
              "      fill: #174EA6;\n",
              "    }\n",
              "\n",
              "    [theme=dark] .colab-df-convert {\n",
              "      background-color: #3B4455;\n",
              "      fill: #D2E3FC;\n",
              "    }\n",
              "\n",
              "    [theme=dark] .colab-df-convert:hover {\n",
              "      background-color: #434B5C;\n",
              "      box-shadow: 0px 1px 3px 1px rgba(0, 0, 0, 0.15);\n",
              "      filter: drop-shadow(0px 1px 2px rgba(0, 0, 0, 0.3));\n",
              "      fill: #FFFFFF;\n",
              "    }\n",
              "  </style>\n",
              "\n",
              "      <script>\n",
              "        const buttonEl =\n",
              "          document.querySelector('#df-da4f9406-d890-48e7-8e26-0b8f38d56c90 button.colab-df-convert');\n",
              "        buttonEl.style.display =\n",
              "          google.colab.kernel.accessAllowed ? 'block' : 'none';\n",
              "\n",
              "        async function convertToInteractive(key) {\n",
              "          const element = document.querySelector('#df-da4f9406-d890-48e7-8e26-0b8f38d56c90');\n",
              "          const dataTable =\n",
              "            await google.colab.kernel.invokeFunction('convertToInteractive',\n",
              "                                                     [key], {});\n",
              "          if (!dataTable) return;\n",
              "\n",
              "          const docLinkHtml = 'Like what you see? Visit the ' +\n",
              "            '<a target=\"_blank\" href=https://colab.research.google.com/notebooks/data_table.ipynb>data table notebook</a>'\n",
              "            + ' to learn more about interactive tables.';\n",
              "          element.innerHTML = '';\n",
              "          dataTable['output_type'] = 'display_data';\n",
              "          await google.colab.output.renderOutput(dataTable, element);\n",
              "          const docLink = document.createElement('div');\n",
              "          docLink.innerHTML = docLinkHtml;\n",
              "          element.appendChild(docLink);\n",
              "        }\n",
              "      </script>\n",
              "    </div>\n",
              "  </div>\n",
              "  "
            ]
          },
          "metadata": {},
          "execution_count": 24
        }
      ]
    },
    {
      "cell_type": "markdown",
      "source": [
        "### Create MyDataset Class\n",
        "\n",
        "\n",
        "*   create a dataset that can be used with Pytorch \"DataLoader\" for loading and batching data\n",
        "*   label input data, direction data, and other_action data\n",
        "*   LongTensor is used for target labels in classification problems "
      ],
      "metadata": {
        "id": "SIPynmaZPMFG"
      }
    },
    {
      "cell_type": "code",
      "source": [
        "class MyDataset(Dataset):\n",
        "    def __init__(self, input_data, target_direction, target_other_action):\n",
        "        self.input_data = torch.Tensor(input_data)\n",
        "        self.target_direction = torch.LongTensor(target_direction)\n",
        "        self.target_other_action = torch.LongTensor(target_other_action)\n",
        "\n",
        "    def __len__(self):\n",
        "        return len(self.input_data)\n",
        "\n",
        "    def __getitem__(self, idx):\n",
        "        return (\n",
        "            self.input_data[idx],\n",
        "            self.target_direction[idx],\n",
        "            self.target_other_action[idx]\n",
        "        )\n",
        "\n",
        "\n"
      ],
      "metadata": {
        "id": "8DFjHfvYrImD"
      },
      "execution_count": null,
      "outputs": []
    },
    {
      "cell_type": "markdown",
      "source": [
        "### Build the two-headed neural network model"
      ],
      "metadata": {
        "id": "U63dJZhFShDA"
      }
    },
    {
      "cell_type": "code",
      "source": [
        "class TwoHeadedModel(nn.Module):\n",
        "    def __init__(self, input_size, hidden_size, output_size_direction, output_size_other):\n",
        "        super(TwoHeadedModel, self).__init__()\n",
        "        \n",
        "        # Define the share layers, these layers will process the input data\n",
        "        # and produce a set of shared features that will be further processed by each of the two head\n",
        "        self.shared_layers = nn.Sequential(\n",
        "            nn.Linear(input_size, hidden_size),\n",
        "            nn.LeakyReLU(),\n",
        "            nn.Linear(hidden_size, hidden_size),\n",
        "            nn.LeakyReLU()\n",
        "        )\n",
        "        \n",
        "        # Define first head\n",
        "        # This head will process the shared features and produce the output for the direction prediction task\n",
        "        self.head_direction = nn.Sequential(\n",
        "            nn.Linear(hidden_size, hidden_size),\n",
        "            nn.LeakyReLU(),\n",
        "            nn.Linear(hidden_size, output_size_direction)\n",
        "        )\n",
        "        \n",
        "        # Define second head\n",
        "        # This head will process the shared features and produce the output for the other action prediction\n",
        "        self.head_other = nn.Sequential(\n",
        "            nn.Linear(hidden_size, hidden_size),\n",
        "            nn.LeakyReLU(),\n",
        "            nn.Linear(hidden_size, output_size_other)\n",
        "        )\n",
        "\n",
        "    #Define the forward pass of the network\n",
        "    def forward(self, x):\n",
        "        shared_features = self.shared_layers(x)\n",
        "        direction_output = self.head_direction(shared_features)\n",
        "        other_output = self.head_other(shared_features)\n",
        "        return direction_output, other_output\n",
        "\n",
        "\n",
        "\n",
        "\n"
      ],
      "metadata": {
        "id": "JIoTr1CpRhpi"
      },
      "execution_count": null,
      "outputs": []
    },
    {
      "cell_type": "code",
      "source": [
        "input_data = concat_input_df.values\n",
        "target_direction = augmented_directions\n",
        "target_other_action = augmented_other_action\n",
        "target_direction.shape\n",
        "# target_direction.argmax(dim=1)\n",
        "\n",
        "input_data.shape"
      ],
      "metadata": {
        "colab": {
          "base_uri": "https://localhost:8080/"
        },
        "id": "BFIPteEykjTs",
        "outputId": "38c9eb88-c29f-4708-eea1-6f2c31eca703"
      },
      "execution_count": null,
      "outputs": [
        {
          "output_type": "execute_result",
          "data": {
            "text/plain": [
              "(39, 57)"
            ]
          },
          "metadata": {},
          "execution_count": 27
        }
      ]
    },
    {
      "cell_type": "markdown",
      "source": [
        "### Train the model \n",
        "\n",
        "\n",
        "\n",
        "*   **Setting up the Model and Parameters**: hidden size, input size, output size, batch size, etc\n",
        "*   **Cross Validation**: The code uses k-fold cross validation for model evaluation. \n",
        "*   **Loading data**: In each iteration of the CV, the data is split into train and test sets.\n",
        "        *   MyDataset instances created for train and test seets\n",
        "        *   Then pass them into DataLoader instsncaes for batching and shuffling \n",
        "*   **Optimizer and Loss Function**: The Cross-entropy loss function and Adam Optimizer are defined. Only the parameters of the new layers are passed to the optimizer, meaning only these parameters will be updated during training.\n",
        "*   **Training Loop**: In each epoch, it iterates through the training set, calculates the loss, and updates the weights of the new layers. "
      ],
      "metadata": {
        "id": "mcqF1Z3vPlI6"
      }
    },
    {
      "cell_type": "code",
      "source": [
        "input_data = concat_input_df.values\n",
        "target_direction = augmented_directions\n",
        "target_other_action = augmented_other_action\n",
        "\n",
        "\n",
        "# Specify the number of folds\n",
        "num_folds = 10\n",
        "\n",
        "# Create an instance of StratifiedKFold\n",
        "kfold = StratifiedKFold(n_splits=num_folds, shuffle=True, random_state=42)\n",
        "\n",
        "# Rest of the code for model training and evaluation goes inside this loop\n",
        "for fold, (train_index, test_index) in enumerate(kfold.split(input_data, target_direction.argmax(1))):\n",
        "    # Split the data into train and test sets for the current fold\n",
        "    input_train, input_test = input_data[train_index], input_data[test_index]\n",
        "    target_direction_train, target_direction_test = target_direction[train_index], target_direction[test_index]\n",
        "    target_other_action_train, target_other_action_test = target_other_action[train_index], target_other_action[test_index]\n",
        "\n",
        "    # Create MyDataset instances for train and test sets\n",
        "    train_dataset = MyDataset(input_train, target_direction_train, target_other_action_train)\n",
        "    test_dataset = MyDataset(input_test, target_direction_test, target_other_action_test)\n",
        "\n",
        "    train_data_session1 = train_dataset\n",
        "    test_data_session1 = test_dataset\n",
        "\n",
        "    # Define the dimensions of the model\n",
        "    input_size = 57  # \n",
        "    hidden_size = 36  # \n",
        "    output_size_direction = 9  # [up (0), up-right (1), right (2), down-right (3), down (4), down-left (5), left (6), up-left (7), nothing (8)]\n",
        "    output_size_other = 6  # [grab (0), shield (1), jump (2), attack (3), special (4), nothing (5)]\n",
        "\n",
        "    # Set up the training parameters\n",
        "    batch_size = 8\n",
        "    learning_rate = 0.01\n",
        "    num_epochs = 20\n",
        "\n",
        "    # create dataloader for train and test sets\n",
        "    train_loader = DataLoader(train_data_session1, batch_size=batch_size, shuffle=True)\n",
        "    test_loader = DataLoader(test_data_session1, batch_size=batch_size, shuffle=False)\n",
        "\n",
        "    # Initialize the model\n",
        "    model = TwoHeadedModel(input_size, hidden_size, output_size_direction, output_size_other)\n",
        "\n",
        "    # Define the loss functions\n",
        "    criterion_direction = nn.CrossEntropyLoss()\n",
        "    criterion_other = nn.CrossEntropyLoss()\n",
        "\n",
        "    # Define the optimizer\n",
        "    weight_decay = 0.01\n",
        "    optimizer = optim.Adam(model.parameters(), lr=learning_rate, weight_decay=weight_decay)\n",
        "\n",
        "    # Train the model on session 1 data\n",
        "    for epoch in range(num_epochs):\n",
        "        model.train()\n",
        "        running_loss = 0.0\n",
        "        for inputs, targets_direction, targets_other in train_loader:\n",
        "            optimizer.zero_grad()\n",
        "            outputs_direction, outputs_other = model(inputs)\n",
        "          \n",
        "            \n",
        "             # Convert target_directions and targets_other to class indices\n",
        "            targets_direction_indices = targets_direction.argmax(1)\n",
        "            targets_other_indices = targets_other.argmax(1)\n",
        "\n",
        "            # Compute the losses\n",
        "            loss_direction = criterion_direction(outputs_direction, targets_direction_indices)\n",
        "            loss_other = criterion_other(outputs_other, targets_other_indices)\n",
        "\n",
        "            loss = loss_direction + loss_other\n",
        "            \n",
        "            loss.backward()\n",
        "            optimizer.step()\n",
        "            \n",
        "            running_loss += loss.item() * inputs.size(0)\n",
        "\n",
        "        epoch_loss = running_loss / len(train_data_session1)\n",
        "        print(f\"Fold {fold+1} - Epoch {epoch+1}/{num_epochs} | Training Loss: {epoch_loss:.4f}\")\n",
        "\n"
      ],
      "metadata": {
        "colab": {
          "base_uri": "https://localhost:8080/"
        },
        "id": "nZ7ECo--j8Cl",
        "outputId": "8161059d-c2f0-4ea4-c9a0-c096eb8a92bd"
      },
      "execution_count": null,
      "outputs": [
        {
          "output_type": "stream",
          "name": "stderr",
          "text": [
            "/usr/local/lib/python3.10/dist-packages/sklearn/model_selection/_split.py:700: UserWarning: The least populated class in y has only 3 members, which is less than n_splits=10.\n",
            "  warnings.warn(\n"
          ]
        },
        {
          "output_type": "stream",
          "name": "stdout",
          "text": [
            "Fold 1 - Epoch 1/20 | Training Loss: 3.4891\n",
            "Fold 1 - Epoch 2/20 | Training Loss: 1.8964\n",
            "Fold 1 - Epoch 3/20 | Training Loss: 1.6640\n",
            "Fold 1 - Epoch 4/20 | Training Loss: 1.3540\n",
            "Fold 1 - Epoch 5/20 | Training Loss: 1.0805\n",
            "Fold 1 - Epoch 6/20 | Training Loss: 0.8656\n",
            "Fold 1 - Epoch 7/20 | Training Loss: 0.8417\n",
            "Fold 1 - Epoch 8/20 | Training Loss: 0.7886\n",
            "Fold 1 - Epoch 9/20 | Training Loss: 0.7625\n",
            "Fold 1 - Epoch 10/20 | Training Loss: 0.7886\n",
            "Fold 1 - Epoch 11/20 | Training Loss: 0.7722\n",
            "Fold 1 - Epoch 12/20 | Training Loss: 0.7060\n",
            "Fold 1 - Epoch 13/20 | Training Loss: 0.7482\n",
            "Fold 1 - Epoch 14/20 | Training Loss: 0.7099\n",
            "Fold 1 - Epoch 15/20 | Training Loss: 0.7407\n",
            "Fold 1 - Epoch 16/20 | Training Loss: 0.7285\n",
            "Fold 1 - Epoch 17/20 | Training Loss: 0.7101\n",
            "Fold 1 - Epoch 18/20 | Training Loss: 0.6932\n",
            "Fold 1 - Epoch 19/20 | Training Loss: 0.6890\n",
            "Fold 1 - Epoch 20/20 | Training Loss: 0.6807\n",
            "Fold 2 - Epoch 1/20 | Training Loss: 3.7509\n",
            "Fold 2 - Epoch 2/20 | Training Loss: 2.1783\n",
            "Fold 2 - Epoch 3/20 | Training Loss: 1.4336\n",
            "Fold 2 - Epoch 4/20 | Training Loss: 1.3702\n",
            "Fold 2 - Epoch 5/20 | Training Loss: 1.1418\n",
            "Fold 2 - Epoch 6/20 | Training Loss: 0.8850\n",
            "Fold 2 - Epoch 7/20 | Training Loss: 0.6991\n",
            "Fold 2 - Epoch 8/20 | Training Loss: 0.6848\n",
            "Fold 2 - Epoch 9/20 | Training Loss: 0.6830\n",
            "Fold 2 - Epoch 10/20 | Training Loss: 0.6646\n",
            "Fold 2 - Epoch 11/20 | Training Loss: 0.6294\n",
            "Fold 2 - Epoch 12/20 | Training Loss: 0.6353\n",
            "Fold 2 - Epoch 13/20 | Training Loss: 0.6064\n",
            "Fold 2 - Epoch 14/20 | Training Loss: 0.6307\n",
            "Fold 2 - Epoch 15/20 | Training Loss: 0.6419\n",
            "Fold 2 - Epoch 16/20 | Training Loss: 0.5791\n",
            "Fold 2 - Epoch 17/20 | Training Loss: 0.6702\n",
            "Fold 2 - Epoch 18/20 | Training Loss: 0.5618\n",
            "Fold 2 - Epoch 19/20 | Training Loss: 0.5965\n",
            "Fold 2 - Epoch 20/20 | Training Loss: 0.5346\n",
            "Fold 3 - Epoch 1/20 | Training Loss: 3.6258\n",
            "Fold 3 - Epoch 2/20 | Training Loss: 1.8194\n",
            "Fold 3 - Epoch 3/20 | Training Loss: 1.4447\n",
            "Fold 3 - Epoch 4/20 | Training Loss: 1.1820\n",
            "Fold 3 - Epoch 5/20 | Training Loss: 0.9017\n",
            "Fold 3 - Epoch 6/20 | Training Loss: 0.8106\n",
            "Fold 3 - Epoch 7/20 | Training Loss: 0.7310\n",
            "Fold 3 - Epoch 8/20 | Training Loss: 0.7173\n",
            "Fold 3 - Epoch 9/20 | Training Loss: 0.7391\n",
            "Fold 3 - Epoch 10/20 | Training Loss: 0.7067\n",
            "Fold 3 - Epoch 11/20 | Training Loss: 0.6864\n",
            "Fold 3 - Epoch 12/20 | Training Loss: 0.6896\n",
            "Fold 3 - Epoch 13/20 | Training Loss: 0.6957\n",
            "Fold 3 - Epoch 14/20 | Training Loss: 0.6677\n",
            "Fold 3 - Epoch 15/20 | Training Loss: 0.6869\n",
            "Fold 3 - Epoch 16/20 | Training Loss: 0.7136\n",
            "Fold 3 - Epoch 17/20 | Training Loss: 0.6866\n",
            "Fold 3 - Epoch 18/20 | Training Loss: 0.6796\n",
            "Fold 3 - Epoch 19/20 | Training Loss: 0.6666\n",
            "Fold 3 - Epoch 20/20 | Training Loss: 0.6830\n",
            "Fold 4 - Epoch 1/20 | Training Loss: 3.7630\n",
            "Fold 4 - Epoch 2/20 | Training Loss: 2.0300\n",
            "Fold 4 - Epoch 3/20 | Training Loss: 1.2222\n",
            "Fold 4 - Epoch 4/20 | Training Loss: 0.8891\n",
            "Fold 4 - Epoch 5/20 | Training Loss: 0.8380\n",
            "Fold 4 - Epoch 6/20 | Training Loss: 0.7252\n",
            "Fold 4 - Epoch 7/20 | Training Loss: 0.7374\n",
            "Fold 4 - Epoch 8/20 | Training Loss: 0.7282\n",
            "Fold 4 - Epoch 9/20 | Training Loss: 0.7190\n",
            "Fold 4 - Epoch 10/20 | Training Loss: 0.7205\n",
            "Fold 4 - Epoch 11/20 | Training Loss: 0.7163\n",
            "Fold 4 - Epoch 12/20 | Training Loss: 0.7587\n",
            "Fold 4 - Epoch 13/20 | Training Loss: 0.7357\n",
            "Fold 4 - Epoch 14/20 | Training Loss: 0.6917\n",
            "Fold 4 - Epoch 15/20 | Training Loss: 0.6805\n",
            "Fold 4 - Epoch 16/20 | Training Loss: 0.7094\n",
            "Fold 4 - Epoch 17/20 | Training Loss: 0.6374\n",
            "Fold 4 - Epoch 18/20 | Training Loss: 0.6674\n",
            "Fold 4 - Epoch 19/20 | Training Loss: 0.6490\n",
            "Fold 4 - Epoch 20/20 | Training Loss: 0.6011\n",
            "Fold 5 - Epoch 1/20 | Training Loss: 3.8151\n",
            "Fold 5 - Epoch 2/20 | Training Loss: 1.8223\n",
            "Fold 5 - Epoch 3/20 | Training Loss: 1.4552\n",
            "Fold 5 - Epoch 4/20 | Training Loss: 1.3350\n",
            "Fold 5 - Epoch 5/20 | Training Loss: 0.9597\n",
            "Fold 5 - Epoch 6/20 | Training Loss: 0.8137\n",
            "Fold 5 - Epoch 7/20 | Training Loss: 0.7106\n",
            "Fold 5 - Epoch 8/20 | Training Loss: 0.6754\n",
            "Fold 5 - Epoch 9/20 | Training Loss: 0.6511\n",
            "Fold 5 - Epoch 10/20 | Training Loss: 0.6395\n",
            "Fold 5 - Epoch 11/20 | Training Loss: 0.6098\n",
            "Fold 5 - Epoch 12/20 | Training Loss: 0.5741\n",
            "Fold 5 - Epoch 13/20 | Training Loss: 0.5779\n",
            "Fold 5 - Epoch 14/20 | Training Loss: 0.5543\n",
            "Fold 5 - Epoch 15/20 | Training Loss: 0.5099\n",
            "Fold 5 - Epoch 16/20 | Training Loss: 0.4831\n",
            "Fold 5 - Epoch 17/20 | Training Loss: 0.4512\n",
            "Fold 5 - Epoch 18/20 | Training Loss: 0.4124\n",
            "Fold 5 - Epoch 19/20 | Training Loss: 0.3936\n",
            "Fold 5 - Epoch 20/20 | Training Loss: 0.3447\n",
            "Fold 6 - Epoch 1/20 | Training Loss: 3.6948\n",
            "Fold 6 - Epoch 2/20 | Training Loss: 2.0156\n",
            "Fold 6 - Epoch 3/20 | Training Loss: 1.4092\n",
            "Fold 6 - Epoch 4/20 | Training Loss: 1.0812\n",
            "Fold 6 - Epoch 5/20 | Training Loss: 0.8347\n",
            "Fold 6 - Epoch 6/20 | Training Loss: 0.7593\n",
            "Fold 6 - Epoch 7/20 | Training Loss: 0.7295\n",
            "Fold 6 - Epoch 8/20 | Training Loss: 0.7404\n",
            "Fold 6 - Epoch 9/20 | Training Loss: 0.7145\n",
            "Fold 6 - Epoch 10/20 | Training Loss: 0.6986\n",
            "Fold 6 - Epoch 11/20 | Training Loss: 0.6937\n",
            "Fold 6 - Epoch 12/20 | Training Loss: 0.6936\n",
            "Fold 6 - Epoch 13/20 | Training Loss: 0.6843\n",
            "Fold 6 - Epoch 14/20 | Training Loss: 0.6814\n",
            "Fold 6 - Epoch 15/20 | Training Loss: 0.6794\n",
            "Fold 6 - Epoch 16/20 | Training Loss: 0.6394\n",
            "Fold 6 - Epoch 17/20 | Training Loss: 0.6122\n",
            "Fold 6 - Epoch 18/20 | Training Loss: 0.5945\n",
            "Fold 6 - Epoch 19/20 | Training Loss: 0.6104\n",
            "Fold 6 - Epoch 20/20 | Training Loss: 0.6255\n",
            "Fold 7 - Epoch 1/20 | Training Loss: 3.5654\n",
            "Fold 7 - Epoch 2/20 | Training Loss: 1.9290\n",
            "Fold 7 - Epoch 3/20 | Training Loss: 1.4825\n",
            "Fold 7 - Epoch 4/20 | Training Loss: 1.3581\n",
            "Fold 7 - Epoch 5/20 | Training Loss: 1.0490\n",
            "Fold 7 - Epoch 6/20 | Training Loss: 0.9702\n",
            "Fold 7 - Epoch 7/20 | Training Loss: 0.7519\n",
            "Fold 7 - Epoch 8/20 | Training Loss: 0.6663\n",
            "Fold 7 - Epoch 9/20 | Training Loss: 0.6942\n",
            "Fold 7 - Epoch 10/20 | Training Loss: 0.6641\n",
            "Fold 7 - Epoch 11/20 | Training Loss: 0.6257\n",
            "Fold 7 - Epoch 12/20 | Training Loss: 0.6307\n",
            "Fold 7 - Epoch 13/20 | Training Loss: 0.5975\n",
            "Fold 7 - Epoch 14/20 | Training Loss: 0.6179\n",
            "Fold 7 - Epoch 15/20 | Training Loss: 0.5921\n",
            "Fold 7 - Epoch 16/20 | Training Loss: 0.5729\n",
            "Fold 7 - Epoch 17/20 | Training Loss: 0.5701\n",
            "Fold 7 - Epoch 18/20 | Training Loss: 0.5595\n",
            "Fold 7 - Epoch 19/20 | Training Loss: 0.5205\n",
            "Fold 7 - Epoch 20/20 | Training Loss: 0.5545\n",
            "Fold 8 - Epoch 1/20 | Training Loss: 3.5090\n",
            "Fold 8 - Epoch 2/20 | Training Loss: 1.6469\n",
            "Fold 8 - Epoch 3/20 | Training Loss: 1.1193\n",
            "Fold 8 - Epoch 4/20 | Training Loss: 0.8195\n",
            "Fold 8 - Epoch 5/20 | Training Loss: 0.8078\n",
            "Fold 8 - Epoch 6/20 | Training Loss: 0.7473\n",
            "Fold 8 - Epoch 7/20 | Training Loss: 0.7757\n",
            "Fold 8 - Epoch 8/20 | Training Loss: 0.7074\n",
            "Fold 8 - Epoch 9/20 | Training Loss: 0.7252\n",
            "Fold 8 - Epoch 10/20 | Training Loss: 0.6873\n",
            "Fold 8 - Epoch 11/20 | Training Loss: 0.7058\n",
            "Fold 8 - Epoch 12/20 | Training Loss: 0.6747\n",
            "Fold 8 - Epoch 13/20 | Training Loss: 0.6903\n",
            "Fold 8 - Epoch 14/20 | Training Loss: 0.6827\n",
            "Fold 8 - Epoch 15/20 | Training Loss: 0.7387\n",
            "Fold 8 - Epoch 16/20 | Training Loss: 0.6742\n",
            "Fold 8 - Epoch 17/20 | Training Loss: 0.6674\n",
            "Fold 8 - Epoch 18/20 | Training Loss: 0.6417\n",
            "Fold 8 - Epoch 19/20 | Training Loss: 0.6339\n",
            "Fold 8 - Epoch 20/20 | Training Loss: 0.6276\n",
            "Fold 9 - Epoch 1/20 | Training Loss: 3.8277\n",
            "Fold 9 - Epoch 2/20 | Training Loss: 2.1891\n",
            "Fold 9 - Epoch 3/20 | Training Loss: 1.3099\n",
            "Fold 9 - Epoch 4/20 | Training Loss: 0.9878\n",
            "Fold 9 - Epoch 5/20 | Training Loss: 0.7514\n",
            "Fold 9 - Epoch 6/20 | Training Loss: 0.7928\n",
            "Fold 9 - Epoch 7/20 | Training Loss: 0.6172\n",
            "Fold 9 - Epoch 8/20 | Training Loss: 0.7227\n",
            "Fold 9 - Epoch 9/20 | Training Loss: 0.6770\n",
            "Fold 9 - Epoch 10/20 | Training Loss: 0.6234\n",
            "Fold 9 - Epoch 11/20 | Training Loss: 0.6045\n",
            "Fold 9 - Epoch 12/20 | Training Loss: 0.5810\n",
            "Fold 9 - Epoch 13/20 | Training Loss: 0.5587\n",
            "Fold 9 - Epoch 14/20 | Training Loss: 0.5378\n",
            "Fold 9 - Epoch 15/20 | Training Loss: 0.5028\n",
            "Fold 9 - Epoch 16/20 | Training Loss: 0.6048\n",
            "Fold 9 - Epoch 17/20 | Training Loss: 0.5462\n",
            "Fold 9 - Epoch 18/20 | Training Loss: 0.5996\n",
            "Fold 9 - Epoch 19/20 | Training Loss: 0.4960\n",
            "Fold 9 - Epoch 20/20 | Training Loss: 0.5435\n",
            "Fold 10 - Epoch 1/20 | Training Loss: 3.4989\n",
            "Fold 10 - Epoch 2/20 | Training Loss: 1.7573\n",
            "Fold 10 - Epoch 3/20 | Training Loss: 1.5067\n",
            "Fold 10 - Epoch 4/20 | Training Loss: 1.0944\n",
            "Fold 10 - Epoch 5/20 | Training Loss: 0.8296\n",
            "Fold 10 - Epoch 6/20 | Training Loss: 0.7834\n",
            "Fold 10 - Epoch 7/20 | Training Loss: 0.7404\n",
            "Fold 10 - Epoch 8/20 | Training Loss: 0.7358\n",
            "Fold 10 - Epoch 9/20 | Training Loss: 0.6992\n",
            "Fold 10 - Epoch 10/20 | Training Loss: 0.7057\n",
            "Fold 10 - Epoch 11/20 | Training Loss: 0.6892\n",
            "Fold 10 - Epoch 12/20 | Training Loss: 0.7142\n",
            "Fold 10 - Epoch 13/20 | Training Loss: 0.6581\n",
            "Fold 10 - Epoch 14/20 | Training Loss: 0.6532\n",
            "Fold 10 - Epoch 15/20 | Training Loss: 0.5911\n",
            "Fold 10 - Epoch 16/20 | Training Loss: 0.6324\n",
            "Fold 10 - Epoch 17/20 | Training Loss: 0.5407\n",
            "Fold 10 - Epoch 18/20 | Training Loss: 0.5815\n",
            "Fold 10 - Epoch 19/20 | Training Loss: 0.5357\n",
            "Fold 10 - Epoch 20/20 | Training Loss: 0.4522\n"
          ]
        }
      ]
    },
    {
      "cell_type": "markdown",
      "source": [
        "# Evaluation the model accuracy"
      ],
      "metadata": {
        "id": "7Lsp8qh6HGpu"
      }
    },
    {
      "cell_type": "code",
      "source": [
        "import torch\n",
        "from sklearn.metrics import classification_report, confusion_matrix, f1_score\n",
        "\n",
        "model.eval()\n",
        "total_correct_direction = 0\n",
        "total_correct_other_action = 0\n",
        "total_samples = 0\n",
        "predicted_directions = []\n",
        "predicted_others = []\n",
        "targets_directions = []\n",
        "targets_others = []\n",
        "\n",
        "with torch.no_grad():\n",
        "    for inputs, targets_direction, targets_other in test_loader:\n",
        "        outputs_direction, outputs_other = model(inputs)\n",
        "        \n",
        "        _, predicted_direction = torch.max(outputs_direction, 1)\n",
        "        _, predicted_other = torch.max(outputs_other, 1)\n",
        "\n",
        "        total_correct_direction += (predicted_direction == targets_direction.argmax(dim=1)).sum().item()\n",
        "        total_correct_other_action += (predicted_other == targets_other.argmax(dim=1)).sum().item()\n",
        "        \n",
        "        total_samples += inputs.size(0)\n",
        "        \n",
        "        # Collect predictions and targets for later evaluation\n",
        "        predicted_directions.extend(predicted_direction.cpu().numpy())\n",
        "        predicted_others.extend(predicted_other.cpu().numpy())\n",
        "        targets_directions.extend(targets_direction.argmax(dim=1).cpu().numpy())\n",
        "        targets_others.extend(targets_other.argmax(dim=1).cpu().numpy())\n",
        "\n",
        "accuracy_direction = total_correct_direction / total_samples * 100\n",
        "print(f\"Accuracy on Session 1 (Directin) Testing Data: {accuracy_direction:.4f}%\")\n",
        "\n",
        "\n",
        "accuracy_direction_other_action = total_correct_other_action / total_samples * 100\n",
        "print(f\"Accuracy on Session 1 (Other Action) Testing Data: {accuracy_direction_other_action:.4f}%\")\n",
        "\n",
        "\n",
        "# Convert the lists to numpy arrays\n",
        "predicted_directions = np.array(predicted_directions)\n",
        "predicted_others = np.array(predicted_others)\n",
        "targets_directions = np.array(targets_directions)\n",
        "targets_others = np.array(targets_others)\n",
        "\n",
        "# Calculate F1 score\n",
        "f1_direction = f1_score(targets_directions, predicted_directions, average='weighted')\n",
        "f1_other = f1_score(targets_others, predicted_others, average='weighted')\n",
        "print(f\"F1 Score (Direction): {f1_direction:.4f}\")\n",
        "print(f\"F1 Score (Other): {f1_other:.4f}\")\n",
        "\n",
        "# Calculate confusion matrix\n",
        "confusion_matrix_direction = confusion_matrix(targets_directions, predicted_directions)\n",
        "confusion_matrix_other = confusion_matrix(targets_others, predicted_others)\n",
        "print(\"Confusion Matrix (Direction):\")\n",
        "print(confusion_matrix_direction)\n",
        "print(\"Confusion Matrix (Other):\")\n",
        "print(confusion_matrix_other)\n",
        "\n",
        "# Calculate classification report\n",
        "classification_report_direction = classification_report(targets_directions, predicted_directions)\n",
        "classification_report_other = classification_report(targets_others, predicted_others)\n",
        "print(\"Classification Report (Direction):\")\n",
        "print(classification_report_direction)\n",
        "print(\"Classification Report (Other):\")\n",
        "print(classification_report_other)\n"
      ],
      "metadata": {
        "colab": {
          "base_uri": "https://localhost:8080/"
        },
        "id": "5Xp_7nOy__84",
        "outputId": "f8de0874-6a84-4e3c-c389-350c4c1316e1"
      },
      "execution_count": null,
      "outputs": [
        {
          "output_type": "stream",
          "name": "stdout",
          "text": [
            "Accuracy on Session 1 (Directin) Testing Data: 100.0000%\n",
            "Accuracy on Session 1 (Other Action) Testing Data: 100.0000%\n",
            "F1 Score (Direction): 1.0000\n",
            "F1 Score (Other): 1.0000\n",
            "Confusion Matrix (Direction):\n",
            "[[2 0]\n",
            " [0 1]]\n",
            "Confusion Matrix (Other):\n",
            "[[3]]\n",
            "Classification Report (Direction):\n",
            "              precision    recall  f1-score   support\n",
            "\n",
            "           2       1.00      1.00      1.00         2\n",
            "           6       1.00      1.00      1.00         1\n",
            "\n",
            "    accuracy                           1.00         3\n",
            "   macro avg       1.00      1.00      1.00         3\n",
            "weighted avg       1.00      1.00      1.00         3\n",
            "\n",
            "Classification Report (Other):\n",
            "              precision    recall  f1-score   support\n",
            "\n",
            "           5       1.00      1.00      1.00         3\n",
            "\n",
            "    accuracy                           1.00         3\n",
            "   macro avg       1.00      1.00      1.00         3\n",
            "weighted avg       1.00      1.00      1.00         3\n",
            "\n"
          ]
        }
      ]
    },
    {
      "cell_type": "markdown",
      "source": [
        "# Save the model"
      ],
      "metadata": {
        "id": "QHy0MoRCwxIs"
      }
    },
    {
      "cell_type": "code",
      "source": [
        "torch.save(model.state_dict(),'session1_trained_model.pt')"
      ],
      "metadata": {
        "id": "5gykkKpQZD4I"
      },
      "execution_count": null,
      "outputs": []
    },
    {
      "cell_type": "code",
      "source": [],
      "metadata": {
        "id": "3Nt63avLnmZ-"
      },
      "execution_count": null,
      "outputs": []
    }
  ]
}